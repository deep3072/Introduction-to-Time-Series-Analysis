{
  "cells": [
    {
      "cell_type": "code",
      "execution_count": 1,
      "metadata": {
        "id": "ctJFxQFUb0qn"
      },
      "outputs": [],
      "source": [
        "# To ignore warnings\n",
        "\n",
        "import os, warnings\n",
        "warnings.filterwarnings('ignore')"
      ]
    },
    {
      "cell_type": "code",
      "execution_count": 2,
      "metadata": {
        "id": "lFrdWq2zeaUG"
      },
      "outputs": [],
      "source": [
        "# Import necessary libraries\n",
        "\n",
        "import numpy as np\n",
        "import pandas as pd\n",
        "from sklearn.preprocessing import MinMaxScaler\n",
        "import tensorflow as tf\n",
        "from sklearn.metrics import mean_squared_error, mean_absolute_percentage_error\n",
        "from tensorflow.keras.models import Model\n",
        "from tensorflow.keras.layers import Input, Dense, Dropout, LayerNormalization, MultiHeadAttention, TimeDistributed, GlobalAveragePooling1D\n",
        "from tensorflow.keras.optimizers import Adam\n",
        "from tensorflow.keras.callbacks import EarlyStopping, ReduceLROnPlateau\n",
        "import matplotlib.pyplot as plt"
      ]
    },
    {
      "cell_type": "code",
      "execution_count": 3,
      "metadata": {
        "id": "kQtgv_Wveh0P"
      },
      "outputs": [],
      "source": [
        "# Load and preprocess the COVID-19 dataset\n",
        "\n",
        "url = \"https://raw.githubusercontent.com/datasets/covid-19/master/data/time-series-19-covid-combined.csv\" # URL for the COVID-19 dataset\n",
        "df = pd.read_csv(url)\n",
        "\n",
        "df['Date'] = pd.to_datetime(df['Date'])\n",
        "df = df[df['Country/Region'] == 'US']\n",
        "df.fillna(0, inplace=True)"
      ]
    },
    {
      "cell_type": "code",
      "execution_count": 4,
      "metadata": {
        "id": "VbtcjcvCbjrG"
      },
      "outputs": [],
      "source": [
        "# Feature engineering\n",
        "\n",
        "df['New_Cases'] = df['Confirmed'].diff().fillna(0)"
      ]
    },
    {
      "cell_type": "code",
      "execution_count": 5,
      "metadata": {
        "id": "nUJ1qyTvetp2"
      },
      "outputs": [],
      "source": [
        "# Trim the data into specific range\n",
        "\n",
        "start_date = pd.Timestamp('2020-03-01')\n",
        "end_date = pd.Timestamp('2020-03-21')\n",
        "df_train = df[(df['Date'] >= start_date) & (df['Date'] <= end_date)]"
      ]
    },
    {
      "cell_type": "code",
      "execution_count": 6,
      "metadata": {
        "id": "gJSs0l-Dz9sZ"
      },
      "outputs": [],
      "source": [
        "df = df_train"
      ]
    },
    {
      "cell_type": "code",
      "execution_count": 7,
      "metadata": {
        "id": "dZy-l6rf0AXC"
      },
      "outputs": [],
      "source": [
        "# Define the training and testing set\n",
        "\n",
        "train_size = int(len(df) * 0.8)\n",
        "train_data = df['New_Cases'][:train_size]\n",
        "test_data = df['New_Cases'][train_size:]"
      ]
    },
    {
      "cell_type": "code",
      "execution_count": 10,
      "metadata": {
        "id": "Wn4bd37d0gHM"
      },
      "outputs": [],
      "source": [
        "# Detrending the time series using differencing\n",
        "\n",
        "train_data_diff = train_data.diff().dropna()\n",
        "test_data_diff = test_data.diff().dropna()"
      ]
    },
    {
      "cell_type": "code",
      "execution_count": 495,
      "metadata": {
        "id": "Mkhchd-Q0PhV"
      },
      "outputs": [],
      "source": [
        "# Normalize the data\n",
        "\n",
        "scaler = MinMaxScaler(feature_range=(0, 1))\n",
        "scaled_train = scaler.fit_transform(np.array(train_data_diff).reshape(-1, 1))\n",
        "scaled_test = scaler.transform(np.array(test_data_diff).reshape(-1, 1))"
      ]
    },
    {
      "cell_type": "code",
      "execution_count": 496,
      "metadata": {
        "id": "ruBOJkgzfAL9"
      },
      "outputs": [],
      "source": [
        "# Function to create sequences of data for training and testing\n",
        "\n",
        "def create_sequences(data, seq_length):\n",
        "    X = []\n",
        "    y = []\n",
        "    for i in range(len(data) - seq_length):\n",
        "        X.append(data[i:i+seq_length])\n",
        "        y.append(data[i+seq_length])\n",
        "    return np.array(X), np.array(y)"
      ]
    },
    {
      "cell_type": "code",
      "execution_count": 497,
      "metadata": {
        "id": "2DP0uhACfB3V"
      },
      "outputs": [],
      "source": [
        "# Create sequences for training and testing\n",
        "\n",
        "time_step = 2 # Number of days to look back\n",
        "X_train, y_train = create_sequences(scaled_train, time_step)\n",
        "X_test, y_test = create_sequences(np.concatenate((scaled_train[-time_step:], scaled_test)), time_step)"
      ]
    },
    {
      "cell_type": "code",
      "execution_count": 498,
      "metadata": {
        "id": "L3ItcXc7sgFH"
      },
      "outputs": [],
      "source": [
        "# Reshaping the data for the model\n",
        "\n",
        "X_train = X_train.reshape((X_train.shape[0], X_train.shape[1], 1))\n",
        "X_test = X_test.reshape((X_test.shape[0], X_test.shape[1], 1))"
      ]
    },
    {
      "cell_type": "code",
      "execution_count": 499,
      "metadata": {
        "id": "3Q0FJF1WfIH2"
      },
      "outputs": [],
      "source": [
        "# Define and compile the model as mentioned in Table 4\n",
        "\n",
        "input_layer = Input(shape=(time_step, 1))\n",
        "x = TimeDistributed(Dense(128))(input_layer)\n",
        "x = MultiHeadAttention(num_heads=4, key_dim=8)(x, x)\n",
        "x = LayerNormalization()(x)\n",
        "x = Dropout(0.2)(x)\n",
        "x = TimeDistributed(Dense(16, activation='relu'))(x)\n",
        "x = GlobalAveragePooling1D()(x)\n",
        "output_layer = Dense(1)(x)\n",
        "model = Model(inputs=input_layer, outputs=output_layer)\n",
        "\n",
        "optimizer = Adam(learning_rate=0.001)\n",
        "model.compile(optimizer=optimizer, loss='mean_squared_error')"
      ]
    },
    {
      "cell_type": "code",
      "execution_count": 500,
      "metadata": {
        "id": "JF-9S4UUfMFG"
      },
      "outputs": [],
      "source": [
        "# Define callbacks for training\n",
        "\n",
        "early_stopping = EarlyStopping(monitor='val_loss', patience=10, restore_best_weights=True)\n",
        "reduce_lr = ReduceLROnPlateau(monitor='val_loss', factor=0.2, patience=5, min_lr=1e-6)"
      ]
    },
    {
      "cell_type": "code",
      "execution_count": 501,
      "metadata": {
        "colab": {
          "base_uri": "https://localhost:8080/"
        },
        "id": "3o2IzfiffNhW",
        "outputId": "aac30b36-977f-44c7-f85f-a38c3b073954"
      },
      "outputs": [
        {
          "name": "stdout",
          "output_type": "stream",
          "text": [
            "Epoch 1/100\n",
            "\u001b[1m1/1\u001b[0m \u001b[32m━━━━━━━━━━━━━━━━━━━━\u001b[0m\u001b[37m\u001b[0m \u001b[1m3s\u001b[0m 3s/step - loss: 0.2659 - val_loss: 0.3641 - learning_rate: 0.0010\n",
            "Epoch 2/100\n",
            "\u001b[1m1/1\u001b[0m \u001b[32m━━━━━━━━━━━━━━━━━━━━\u001b[0m\u001b[37m\u001b[0m \u001b[1m0s\u001b[0m 62ms/step - loss: 0.0589 - val_loss: 0.3574 - learning_rate: 0.0010\n",
            "Epoch 3/100\n",
            "\u001b[1m1/1\u001b[0m \u001b[32m━━━━━━━━━━━━━━━━━━━━\u001b[0m\u001b[37m\u001b[0m \u001b[1m0s\u001b[0m 58ms/step - loss: 0.0700 - val_loss: 0.5406 - learning_rate: 0.0010\n",
            "Epoch 4/100\n",
            "\u001b[1m1/1\u001b[0m \u001b[32m━━━━━━━━━━━━━━━━━━━━\u001b[0m\u001b[37m\u001b[0m \u001b[1m0s\u001b[0m 61ms/step - loss: 0.0739 - val_loss: 0.3721 - learning_rate: 0.0010\n",
            "Epoch 5/100\n",
            "\u001b[1m1/1\u001b[0m \u001b[32m━━━━━━━━━━━━━━━━━━━━\u001b[0m\u001b[37m\u001b[0m \u001b[1m0s\u001b[0m 60ms/step - loss: 0.0582 - val_loss: 0.3647 - learning_rate: 0.0010\n",
            "Epoch 6/100\n",
            "\u001b[1m1/1\u001b[0m \u001b[32m━━━━━━━━━━━━━━━━━━━━\u001b[0m\u001b[37m\u001b[0m \u001b[1m0s\u001b[0m 61ms/step - loss: 0.0500 - val_loss: 0.4376 - learning_rate: 0.0010\n",
            "Epoch 7/100\n",
            "\u001b[1m1/1\u001b[0m \u001b[32m━━━━━━━━━━━━━━━━━━━━\u001b[0m\u001b[37m\u001b[0m \u001b[1m0s\u001b[0m 58ms/step - loss: 0.0520 - val_loss: 0.4371 - learning_rate: 0.0010\n",
            "Epoch 8/100\n",
            "\u001b[1m1/1\u001b[0m \u001b[32m━━━━━━━━━━━━━━━━━━━━\u001b[0m\u001b[37m\u001b[0m \u001b[1m0s\u001b[0m 66ms/step - loss: 0.0477 - val_loss: 0.4436 - learning_rate: 2.0000e-04\n",
            "Epoch 9/100\n",
            "\u001b[1m1/1\u001b[0m \u001b[32m━━━━━━━━━━━━━━━━━━━━\u001b[0m\u001b[37m\u001b[0m \u001b[1m0s\u001b[0m 69ms/step - loss: 0.0526 - val_loss: 0.4624 - learning_rate: 2.0000e-04\n",
            "Epoch 10/100\n",
            "\u001b[1m1/1\u001b[0m \u001b[32m━━━━━━━━━━━━━━━━━━━━\u001b[0m\u001b[37m\u001b[0m \u001b[1m0s\u001b[0m 72ms/step - loss: 0.0442 - val_loss: 0.4895 - learning_rate: 2.0000e-04\n",
            "Epoch 11/100\n",
            "\u001b[1m1/1\u001b[0m \u001b[32m━━━━━━━━━━━━━━━━━━━━\u001b[0m\u001b[37m\u001b[0m \u001b[1m0s\u001b[0m 127ms/step - loss: 0.0547 - val_loss: 0.5095 - learning_rate: 2.0000e-04\n",
            "Epoch 12/100\n",
            "\u001b[1m1/1\u001b[0m \u001b[32m━━━━━━━━━━━━━━━━━━━━\u001b[0m\u001b[37m\u001b[0m \u001b[1m0s\u001b[0m 60ms/step - loss: 0.0567 - val_loss: 0.5271 - learning_rate: 2.0000e-04\n"
          ]
        }
      ],
      "source": [
        "# Train the model\n",
        "\n",
        "history = model.fit(X_train, y_train, validation_data=(X_test, y_test), epochs=100, batch_size=16, callbacks=[early_stopping, reduce_lr])"
      ]
    },
    {
      "cell_type": "code",
      "execution_count": 502,
      "metadata": {
        "colab": {
          "base_uri": "https://localhost:8080/"
        },
        "id": "O6cQ499ifRT-",
        "outputId": "17239ad0-2dae-45ef-ae57-f93a1a2aca9e"
      },
      "outputs": [
        {
          "name": "stdout",
          "output_type": "stream",
          "text": [
            "\u001b[1m1/1\u001b[0m \u001b[32m━━━━━━━━━━━━━━━━━━━━\u001b[0m\u001b[37m\u001b[0m \u001b[1m0s\u001b[0m 182ms/step\n",
            "\u001b[1m1/1\u001b[0m \u001b[32m━━━━━━━━━━━━━━━━━━━━\u001b[0m\u001b[37m\u001b[0m \u001b[1m0s\u001b[0m 197ms/step\n"
          ]
        }
      ],
      "source": [
        "# Make predictions and inverse transform the results\n",
        "\n",
        "train_predict = model.predict(X_train)\n",
        "test_predict = model.predict(X_test)"
      ]
    },
    {
      "cell_type": "code",
      "execution_count": 503,
      "metadata": {
        "id": "F_duHDd9tjPx"
      },
      "outputs": [],
      "source": [
        "# Inverse transform the predictions to the original scale\n",
        "\n",
        "train_predict = scaler.inverse_transform(train_predict)\n",
        "test_predict = scaler.inverse_transform(test_predict)"
      ]
    },
    {
      "cell_type": "code",
      "execution_count": 504,
      "metadata": {
        "id": "CbOgnFx3tmSG"
      },
      "outputs": [],
      "source": [
        "# Fetch the actual future new cases for comparison\n",
        "\n",
        "url = \"https://raw.githubusercontent.com/datasets/covid-19/master/data/time-series-19-covid-combined.csv\"\n",
        "df_test = pd.read_csv(url)\n",
        "\n",
        "df_test['Date'] = pd.to_datetime(df_test['Date'])\n",
        "df_test = df_test[df_test['Country/Region'] == 'US']\n",
        "df_test.fillna(0, inplace=True)\n",
        "\n",
        "df_test['New_Cases'] = df_test['Confirmed'].diff().fillna(0)\n",
        "\n",
        "start_date = pd.Timestamp('2020-03-22')\n",
        "end_date = pd.Timestamp('2020-03-24')\n",
        "df_test = df_test[(df_test['Date'] >= start_date) & (df_test['Date'] <= end_date)]\n",
        "\n",
        "actual_future_cases = df_test['New_Cases'].values"
      ]
    },
    {
      "cell_type": "code",
      "execution_count": 505,
      "metadata": {
        "id": "YxoPbBCp073F"
      },
      "outputs": [],
      "source": [
        "next = 3  # Number of days to forecast"
      ]
    },
    {
      "cell_type": "code",
      "execution_count": 506,
      "metadata": {
        "colab": {
          "base_uri": "https://localhost:8080/"
        },
        "id": "2RqhHBqb08BM",
        "outputId": "2ccdcd3c-e73c-45ad-ef11-c78f599a3a02"
      },
      "outputs": [
        {
          "name": "stdout",
          "output_type": "stream",
          "text": [
            "\u001b[1m1/1\u001b[0m \u001b[32m━━━━━━━━━━━━━━━━━━━━\u001b[0m\u001b[37m\u001b[0m \u001b[1m0s\u001b[0m 22ms/step\n",
            "\u001b[1m1/1\u001b[0m \u001b[32m━━━━━━━━━━━━━━━━━━━━\u001b[0m\u001b[37m\u001b[0m \u001b[1m0s\u001b[0m 21ms/step\n",
            "\u001b[1m1/1\u001b[0m \u001b[32m━━━━━━━━━━━━━━━━━━━━\u001b[0m\u001b[37m\u001b[0m \u001b[1m0s\u001b[0m 21ms/step\n"
          ]
        }
      ],
      "source": [
        "# Prepare the input for future predictions\n",
        "\n",
        "future_inputs = df['New_Cases'][-time_step:].values.reshape(1, time_step, 1)\n",
        "future_predictions = []\n",
        "\n",
        "for _ in range(next):\n",
        "    future_pred = model.predict(future_inputs)\n",
        "    future_predictions.append(future_pred[0, 0])\n",
        "    future_inputs = np.append(future_inputs[:, 1:, :], future_pred.reshape(1, 1, 1), axis=1)\n",
        "\n",
        "# Inverse transform the future predictions to the original scale\n",
        "future_predictions = scaler.inverse_transform(np.array(future_predictions).reshape(-1, 1))"
      ]
    },
    {
      "cell_type": "code",
      "execution_count": 507,
      "metadata": {
        "colab": {
          "base_uri": "https://localhost:8080/"
        },
        "id": "WNgVIsXv1BCX",
        "outputId": "fbb9688a-5b01-4fdc-89df-25a5af245e3e"
      },
      "outputs": [
        {
          "data": {
            "text/plain": [
              "array([[2327.3748],\n",
              "       [2059.463 ],\n",
              "       [1523.627 ]], dtype=float32)"
            ]
          },
          "execution_count": 507,
          "metadata": {},
          "output_type": "execute_result"
        }
      ],
      "source": [
        "future_predictions"
      ]
    },
    {
      "cell_type": "code",
      "execution_count": 508,
      "metadata": {
        "id": "Dd4sKrwo1BKG"
      },
      "outputs": [],
      "source": [
        "# Invert the differencing for future predictions\n",
        "\n",
        "last_value = df['New_Cases'].iloc[-1]\n",
        "future_predictions_orig = last_value + np.cumsum(future_predictions)"
      ]
    },
    {
      "cell_type": "code",
      "execution_count": 509,
      "metadata": {
        "colab": {
          "base_uri": "https://localhost:8080/"
        },
        "id": "ysf2vL2Z1MTf",
        "outputId": "f1f8f7d4-5629-44bd-e10d-e41522d39a4b"
      },
      "outputs": [
        {
          "data": {
            "text/plain": [
              "array([ 8322.375, 10381.838, 11905.465], dtype=float32)"
            ]
          },
          "execution_count": 509,
          "metadata": {},
          "output_type": "execute_result"
        }
      ],
      "source": [
        "future_predictions_orig"
      ]
    },
    {
      "cell_type": "code",
      "execution_count": 510,
      "metadata": {
        "colab": {
          "base_uri": "https://localhost:8080/"
        },
        "id": "gETtpCriKdWw",
        "outputId": "9fb8e829-b59c-4bb6-dab2-86cac46005e6"
      },
      "outputs": [
        {
          "name": "stdout",
          "output_type": "stream",
          "text": [
            "Root Mean Squared Error for Transformer: 932.1439068502534\n",
            "Mean Absolute Percentage Error for Transformer: 0.08573573452633822\n"
          ]
        }
      ],
      "source": [
        "# Evaluate the predictions\n",
        "\n",
        "rmse = np.sqrt(mean_squared_error(actual_future_cases, future_predictions_orig))\n",
        "mape = mean_absolute_percentage_error(actual_future_cases, future_predictions_orig)\n",
        "\n",
        "print(f'Root Mean Squared Error for Transformer: {rmse}')\n",
        "print(f'Mean Absolute Percentage Error for Transformer: {mape}')"
      ]
    },
    {
      "cell_type": "code",
      "execution_count": 515,
      "metadata": {
        "colab": {
          "base_uri": "https://localhost:8080/",
          "height": 487
        },
        "id": "IW6VYHuHB05E",
        "outputId": "c27c3ec4-1176-46b3-bb4a-3d198e5869b4"
      },
      "outputs": [
        {
          "data": {
            "image/png": "[encoded data removed]",
            "text/plain": [
              "<Figure size 1200x500 with 1 Axes>"
            ]
          },
          "metadata": {},
          "output_type": "display_data"
        }
      ],
      "source": [
        "# Visualize the predictions as shown in Figure 8\n",
        "\n",
        "days = [\"Day 1\", \"Day 2\", \"Day 3\"]\n",
        "actual_new_cases = actual_future_cases\n",
        "predicted_new_cases = future_predictions_orig\n",
        "\n",
        "plt.figure(figsize=(12, 5))\n",
        "\n",
        "plt.plot(days, actual_new_cases, marker='o', linestyle='-', color='blue', label='Actual')\n",
        "plt.plot(days, predicted_new_cases, marker='o', linestyle='--', color='red', label='Transformers Prediction with detrending')\n",
        "\n",
        "plt.title('COVID-19 New Cases Prediction using Transformers')\n",
        "plt.xlabel('Prediction')\n",
        "plt.ylabel('New Cases')\n",
        "\n",
        "plt.legend()\n",
        "\n",
        "plt.grid(True)\n",
        "plt.show()"
      ]
    },
    {
      "cell_type": "code",
      "execution_count": 511,
      "metadata": {
        "id": "hravfMasfXtV"
      },
      "outputs": [],
      "source": []
    }
  ],
  "metadata": {
    "colab": {
      "provenance": []
    },
    "kernelspec": {
      "display_name": "Python 3",
      "name": "python3"
    },
    "language_info": {
      "name": "python"
    }
  },
  "nbformat": 4,
  "nbformat_minor": 0
}
