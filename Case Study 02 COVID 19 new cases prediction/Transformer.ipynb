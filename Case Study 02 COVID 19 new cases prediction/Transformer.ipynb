{
  "nbformat": 4,
  "nbformat_minor": 0,
  "metadata": {
    "colab": {
      "provenance": []
    },
    "kernelspec": {
      "name": "python3",
      "display_name": "Python 3"
    },
    "language_info": {
      "name": "python"
    }
  },
  "cells": [
    {
      "cell_type": "code",
      "source": [
        "# To ignore warnings\n",
        "\n",
        "import os, warnings\n",
        "warnings.filterwarnings('ignore')"
      ],
      "metadata": {
        "id": "ctJFxQFUb0qn"
      },
      "execution_count": 118,
      "outputs": []
    },
    {
      "cell_type": "code",
      "execution_count": 119,
      "metadata": {
        "id": "lFrdWq2zeaUG"
      },
      "outputs": [],
      "source": [
        "# Import necessary libraries\n",
        "\n",
        "import numpy as np\n",
        "import pandas as pd\n",
        "from sklearn.preprocessing import MinMaxScaler\n",
        "import tensorflow as tf\n",
        "from sklearn.metrics import mean_squared_error, mean_absolute_percentage_error\n",
        "from tensorflow.keras.models import Model\n",
        "from tensorflow.keras.layers import Input, Dense, Dropout, LayerNormalization, MultiHeadAttention, TimeDistributed, GlobalAveragePooling1D\n",
        "from tensorflow.keras.optimizers import Adam\n",
        "from tensorflow.keras.callbacks import EarlyStopping, ReduceLROnPlateau\n",
        "import matplotlib.pyplot as plt"
      ]
    },
    {
      "cell_type": "code",
      "source": [
        "# Load and preprocess the COVID-19 dataset\n",
        "\n",
        "url = \"https://raw.githubusercontent.com/datasets/covid-19/master/data/time-series-19-covid-combined.csv\" # URL for the COVID-19 dataset\n",
        "df = pd.read_csv(url)\n",
        "\n",
        "df['Date'] = pd.to_datetime(df['Date'])\n",
        "df = df[df['Country/Region'] == 'US']\n",
        "df.fillna(0, inplace=True)"
      ],
      "metadata": {
        "id": "kQtgv_Wveh0P"
      },
      "execution_count": 120,
      "outputs": []
    },
    {
      "cell_type": "code",
      "source": [
        "# Feature engineering\n",
        "\n",
        "df['New_Cases'] = df['Confirmed'].diff().fillna(0)"
      ],
      "metadata": {
        "id": "VbtcjcvCbjrG"
      },
      "execution_count": 121,
      "outputs": []
    },
    {
      "cell_type": "code",
      "source": [
        "# Split the data into training and testing sets\n",
        "\n",
        "start_date = pd.Timestamp('2020-03-01')\n",
        "end_date = pd.Timestamp('2020-03-21')\n",
        "df_train = df[(df['Date'] >= start_date) & (df['Date'] <= end_date)]\n",
        "\n",
        "test_start_date = pd.Timestamp('2020-03-22')\n",
        "test_end_date = pd.Timestamp('2020-03-25')\n",
        "df_test = df[(df['Date'] >= test_start_date) & (df['Date'] <= test_end_date)]"
      ],
      "metadata": {
        "id": "nUJ1qyTvetp2"
      },
      "execution_count": 122,
      "outputs": []
    },
    {
      "cell_type": "code",
      "source": [
        "# Prepare the data for modeling mentioned in Section 5.2 (Univariate approach)\n",
        "target = ['New_Cases']\n",
        "\n",
        "train_data = df_train[target].values\n",
        "test_data = df_test[target].values\n",
        "\n",
        "scaler = MinMaxScaler(feature_range=(0, 1))\n",
        "scaled_train_data = scaler.fit_transform(train_data)\n",
        "scaled_test_data = scaler.transform(test_data)"
      ],
      "metadata": {
        "id": "Or70Syrae6IX"
      },
      "execution_count": 123,
      "outputs": []
    },
    {
      "cell_type": "code",
      "source": [
        "# Function to create sequences of data for training and testing\n",
        "\n",
        "def create_sequences(data, seq_length):\n",
        "    X = []\n",
        "    y = []\n",
        "    for i in range(len(data) - seq_length):\n",
        "        X.append(data[i:i+seq_length])\n",
        "        y.append(data[i+seq_length])\n",
        "    return np.array(X), np.array(y)\n"
      ],
      "metadata": {
        "id": "ruBOJkgzfAL9"
      },
      "execution_count": 145,
      "outputs": []
    },
    {
      "cell_type": "code",
      "source": [
        "# Create sequences for training and testing\n",
        "\n",
        "seq_length = 1  # Number of days to look back\n",
        "X_train, y_train = create_sequences(scaled_train_data, seq_length)\n",
        "X_test, y_test = create_sequences(scaled_test_data, seq_length)\n"
      ],
      "metadata": {
        "id": "2DP0uhACfB3V"
      },
      "execution_count": 146,
      "outputs": []
    },
    {
      "cell_type": "code",
      "source": [
        "# Reshaping the data for the model\n",
        "\n",
        "X_train = X_train.reshape((X_train.shape[0], X_train.shape[1], 1))\n",
        "X_test = X_test.reshape((X_test.shape[0], X_test.shape[1], 1))\n"
      ],
      "metadata": {
        "id": "L3ItcXc7sgFH"
      },
      "execution_count": 147,
      "outputs": []
    },
    {
      "cell_type": "code",
      "source": [
        "# Define and compile the model as mentioned in Table 4\n",
        "\n",
        "input_layer = Input(shape=(seq_length, 1))\n",
        "x = TimeDistributed(Dense(128))(input_layer)\n",
        "x = MultiHeadAttention(num_heads=8, key_dim=16)(x, x)\n",
        "x = LayerNormalization()(x)\n",
        "x = Dropout(0.3)(x)\n",
        "x = TimeDistributed(Dense(64, activation='relu'))(x)\n",
        "x = GlobalAveragePooling1D()(x)\n",
        "output_layer = Dense(1)(x)\n",
        "model = Model(inputs=input_layer, outputs=output_layer)\n",
        "\n",
        "optimizer = Adam(learning_rate=0.001)\n",
        "model.compile(optimizer=optimizer, loss='mean_squared_error')"
      ],
      "metadata": {
        "id": "3Q0FJF1WfIH2"
      },
      "execution_count": 148,
      "outputs": []
    },
    {
      "cell_type": "code",
      "source": [
        "# Define callbacks for training\n",
        "\n",
        "early_stopping = EarlyStopping(monitor='val_loss', patience=10, restore_best_weights=True)\n",
        "reduce_lr = ReduceLROnPlateau(monitor='val_loss', factor=0.2, patience=5, min_lr=1e-6)"
      ],
      "metadata": {
        "id": "JF-9S4UUfMFG"
      },
      "execution_count": 149,
      "outputs": []
    },
    {
      "cell_type": "code",
      "source": [
        "# Train the model\n",
        "\n",
        "history = model.fit(X_train, y_train, validation_data=(X_test, y_test), epochs=100, batch_size=64, callbacks=[early_stopping, reduce_lr])"
      ],
      "metadata": {
        "colab": {
          "base_uri": "https://localhost:8080/"
        },
        "id": "3o2IzfiffNhW",
        "outputId": "86638bcb-7abc-4cd8-b3ef-d97cd4443d03"
      },
      "execution_count": 150,
      "outputs": [
        {
          "output_type": "stream",
          "name": "stdout",
          "text": [
            "Epoch 1/100\n",
            "1/1 [==============================] - 2s 2s/step - loss: 0.6333 - val_loss: 0.3442 - lr: 0.0010\n",
            "Epoch 2/100\n",
            "1/1 [==============================] - 0s 49ms/step - loss: 0.0143 - val_loss: 0.0184 - lr: 0.0010\n",
            "Epoch 3/100\n",
            "1/1 [==============================] - 0s 48ms/step - loss: 0.0557 - val_loss: 0.8329 - lr: 0.0010\n",
            "Epoch 4/100\n",
            "1/1 [==============================] - 0s 44ms/step - loss: 0.0573 - val_loss: 0.7127 - lr: 0.0010\n",
            "Epoch 5/100\n",
            "1/1 [==============================] - 0s 58ms/step - loss: 0.0798 - val_loss: 0.0298 - lr: 0.0010\n",
            "Epoch 6/100\n",
            "1/1 [==============================] - 0s 60ms/step - loss: 0.0194 - val_loss: 0.0627 - lr: 0.0010\n",
            "Epoch 7/100\n",
            "1/1 [==============================] - 0s 46ms/step - loss: 0.0765 - val_loss: 0.0172 - lr: 0.0010\n",
            "Epoch 8/100\n",
            "1/1 [==============================] - 0s 68ms/step - loss: 0.0329 - val_loss: 0.3479 - lr: 0.0010\n",
            "Epoch 9/100\n",
            "1/1 [==============================] - 0s 61ms/step - loss: 0.0228 - val_loss: 0.8634 - lr: 0.0010\n",
            "Epoch 10/100\n",
            "1/1 [==============================] - 0s 56ms/step - loss: 0.0197 - val_loss: 0.8829 - lr: 0.0010\n",
            "Epoch 11/100\n",
            "1/1 [==============================] - 0s 68ms/step - loss: 0.0585 - val_loss: 0.7277 - lr: 0.0010\n",
            "Epoch 12/100\n",
            "1/1 [==============================] - 0s 44ms/step - loss: 0.0306 - val_loss: 0.3879 - lr: 0.0010\n",
            "Epoch 13/100\n",
            "1/1 [==============================] - 0s 50ms/step - loss: 0.0303 - val_loss: 0.3323 - lr: 2.0000e-04\n",
            "Epoch 14/100\n",
            "1/1 [==============================] - 0s 53ms/step - loss: 0.0178 - val_loss: 0.2905 - lr: 2.0000e-04\n",
            "Epoch 15/100\n",
            "1/1 [==============================] - 0s 45ms/step - loss: 0.0167 - val_loss: 0.2758 - lr: 2.0000e-04\n",
            "Epoch 16/100\n",
            "1/1 [==============================] - 0s 48ms/step - loss: 0.0438 - val_loss: 0.2567 - lr: 2.0000e-04\n",
            "Epoch 17/100\n",
            "1/1 [==============================] - 0s 55ms/step - loss: 0.0317 - val_loss: 0.2260 - lr: 2.0000e-04\n"
          ]
        }
      ]
    },
    {
      "cell_type": "code",
      "source": [
        "# Make predictions\n",
        "\n",
        "predictions = model.predict(X_test)\n",
        "predictions = scaler.inverse_transform(predictions)\n",
        "y_test = scaler.inverse_transform(y_test)\n"
      ],
      "metadata": {
        "colab": {
          "base_uri": "https://localhost:8080/"
        },
        "id": "O6cQ499ifRT-",
        "outputId": "1bd8effb-5bf6-46ab-ec8a-8db65a5111b0"
      },
      "execution_count": 151,
      "outputs": [
        {
          "output_type": "stream",
          "name": "stdout",
          "text": [
            "1/1 [==============================] - 0s 161ms/step\n"
          ]
        }
      ]
    },
    {
      "cell_type": "code",
      "source": [
        "y_test"
      ],
      "metadata": {
        "colab": {
          "base_uri": "https://localhost:8080/"
        },
        "id": "F_duHDd9tjPx",
        "outputId": "47e7c9b9-fd36-468c-9411-560257cb364e"
      },
      "execution_count": 152,
      "outputs": [
        {
          "output_type": "execute_result",
          "data": {
            "text/plain": [
              "array([[11152.],\n",
              "       [10618.],\n",
              "       [12127.]])"
            ]
          },
          "metadata": {},
          "execution_count": 152
        }
      ]
    },
    {
      "cell_type": "code",
      "source": [
        "predictions"
      ],
      "metadata": {
        "colab": {
          "base_uri": "https://localhost:8080/"
        },
        "id": "CbOgnFx3tmSG",
        "outputId": "286561a5-f617-4062-b3c0-8f487eca5d37"
      },
      "execution_count": 153,
      "outputs": [
        {
          "output_type": "execute_result",
          "data": {
            "text/plain": [
              "array([[10422.9  ],\n",
              "       [11142.299],\n",
              "       [10997.803]], dtype=float32)"
            ]
          },
          "metadata": {},
          "execution_count": 153
        }
      ]
    },
    {
      "cell_type": "code",
      "source": [
        "# Evaluate the predictions\n",
        "\n",
        "rmse = np.sqrt(mean_squared_error(y_test, predictions))\n",
        "mape = mean_absolute_percentage_error(y_test, predictions)\n",
        "\n",
        "print(f'Root Mean Squared Error for Transformer: {rmse}')\n",
        "print(f'Mean Absolute Percentage Error Transformer: {mape}')\n"
      ],
      "metadata": {
        "colab": {
          "base_uri": "https://localhost:8080/"
        },
        "id": "gETtpCriKdWw",
        "outputId": "c5306837-3fc6-43eb-f8a6-b0e9ac126055"
      },
      "execution_count": 154,
      "outputs": [
        {
          "output_type": "stream",
          "name": "stdout",
          "text": [
            "Root Mean Squared Error for Transformer: 832.978984580644\n",
            "Mean Absolute Percentage Error Transformer: 0.0692903294700765\n"
          ]
        }
      ]
    },
    {
      "cell_type": "code",
      "source": [
        "# Visualize the predictions as shown in Figure 6\n",
        "\n",
        "days = [\"Day 1\", \"Day 2\", \"Day 3\"]\n",
        "actual_new_cases = y_test\n",
        "predicted_new_cases = predictions\n",
        "\n",
        "plt.figure(figsize=(12, 5))\n",
        "\n",
        "plt.plot(days, actual_new_cases, marker='o', linestyle='-', color='blue', label='Actual New Cases')\n",
        "plt.plot(days, predicted_new_cases, marker='o', linestyle='--', color='red', label='Predicted New Cases using Transformers')\n",
        "\n",
        "plt.title('COVID-19 New Cases Prediction using Transformers')\n",
        "plt.xlabel('Prediction')\n",
        "plt.ylabel('New Cases')\n",
        "\n",
        "plt.legend()\n",
        "\n",
        "plt.grid(True)\n",
        "plt.show()"
      ],
      "metadata": {
        "colab": {
          "base_uri": "https://localhost:8080/",
          "height": 487
        },
        "id": "IW6VYHuHB05E",
        "outputId": "795b84f8-576b-40b9-f0c7-ac45d54e92c4"
      },
      "execution_count": 156,
      "outputs": [
        {
          "output_type": "display_data",
          "data": {
            "text/plain": [
              "<Figure size 1200x500 with 1 Axes>"
            ],
            "image/png": "[encoded data removed]"
          },
          "metadata": {}
        }
      ]
    },
    {
      "cell_type": "code",
      "source": [],
      "metadata": {
        "id": "hravfMasfXtV"
      },
      "execution_count": 155,
      "outputs": []
    }
  ]
}