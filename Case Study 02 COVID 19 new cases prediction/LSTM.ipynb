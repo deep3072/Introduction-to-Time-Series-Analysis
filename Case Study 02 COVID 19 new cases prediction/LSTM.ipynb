{
  "nbformat": 4,
  "nbformat_minor": 0,
  "metadata": {
    "colab": {
      "provenance": []
    },
    "kernelspec": {
      "name": "python3",
      "display_name": "Python 3"
    },
    "language_info": {
      "name": "python"
    }
  },
  "cells": [
    {
      "cell_type": "code",
      "source": [
        "# To ignore warnings\n",
        "\n",
        "import os, warnings\n",
        "warnings.filterwarnings('ignore')"
      ],
      "metadata": {
        "id": "f2a1dZ3PipZl"
      },
      "execution_count": 1,
      "outputs": []
    },
    {
      "cell_type": "code",
      "execution_count": 2,
      "metadata": {
        "id": "BkV1shRK9Dop"
      },
      "outputs": [],
      "source": [
        "# Import necessary libraries\n",
        "\n",
        "import pandas as pd\n",
        "import numpy as np\n",
        "from sklearn.preprocessing import MinMaxScaler\n",
        "from tensorflow.keras.models import Sequential\n",
        "from tensorflow.keras.layers import LSTM, Dense, Dropout\n",
        "from sklearn.metrics import mean_squared_error, mean_absolute_percentage_error\n",
        "import matplotlib.pyplot as plt"
      ]
    },
    {
      "cell_type": "code",
      "source": [
        "# Load and preprocess the COVID-19 dataset mentioned in section 5.2\n",
        "\n",
        "url = \"https://raw.githubusercontent.com/datasets/covid-19/master/data/time-series-19-covid-combined.csv\"\n",
        "df = pd.read_csv(url)\n",
        "\n",
        "df['Date'] = pd.to_datetime(df['Date'])\n",
        "df = df[df['Country/Region'] == 'US']\n",
        "df.fillna(0, inplace=True)\n",
        "# df = df[df['New_Cases'] >= 0]"
      ],
      "metadata": {
        "id": "c1seX-E4H9dF"
      },
      "execution_count": 3,
      "outputs": []
    },
    {
      "cell_type": "code",
      "source": [
        "# Feature engineering\n",
        "\n",
        "df['New_Cases'] = df['Confirmed'].diff().fillna(0)"
      ],
      "metadata": {
        "id": "cxkQXI0oi-W1"
      },
      "execution_count": 4,
      "outputs": []
    },
    {
      "cell_type": "code",
      "source": [
        "# Split the data into training and testing sets\n",
        "\n",
        "start_date = pd.Timestamp('2020-03-01')\n",
        "end_date = pd.Timestamp('2020-03-21')\n",
        "df_train = df[(df['Date'] >= start_date) & (df['Date'] <= end_date)]\n",
        "\n",
        "test_start_date = pd.Timestamp('2020-03-22')\n",
        "test_end_date = pd.Timestamp('2020-03-25')\n",
        "df_test = df[(df['Date'] >= test_start_date) & (df['Date'] <= test_end_date)]"
      ],
      "metadata": {
        "id": "axkBuzLqE31v"
      },
      "execution_count": 6,
      "outputs": []
    },
    {
      "cell_type": "code",
      "source": [
        "# df_test"
      ],
      "metadata": {
        "id": "-G_3ozsMtKGR"
      },
      "execution_count": 8,
      "outputs": []
    },
    {
      "cell_type": "code",
      "source": [
        "# Prepare the data for modeling mentioned in Section 5.2 (Univariate approach)\n",
        "\n",
        "target = ['New_Cases']\n",
        "\n",
        "train_data = df_train[target].values\n",
        "test_data = df_test[target].values"
      ],
      "metadata": {
        "id": "XmPCaJ439ISJ"
      },
      "execution_count": 10,
      "outputs": []
    },
    {
      "cell_type": "code",
      "source": [
        "# Normalize the data\n",
        "scaler = MinMaxScaler(feature_range=(0, 1))\n",
        "scaled_train_data = scaler.fit_transform(train_data)\n",
        "scaled_test_data = scaler.transform(test_data)\n",
        "\n",
        "# Only for prediction without any data standardization\n",
        "# scaled_train_data = train_data\n",
        "# scaled_test_data = test_data"
      ],
      "metadata": {
        "id": "pd3FK3pFEdT7"
      },
      "execution_count": 11,
      "outputs": []
    },
    {
      "cell_type": "code",
      "source": [
        "# Function to create sequences of data for training and testing\n",
        "\n",
        "def create_sequences(data, seq_length):\n",
        "    X = []\n",
        "    y = []\n",
        "    for i in range(len(data) - seq_length):\n",
        "        X.append(data[i:i+seq_length])\n",
        "        y.append(data[i+seq_length])\n",
        "    return np.array(X), np.array(y)\n"
      ],
      "metadata": {
        "id": "rpJm-RbwGufX"
      },
      "execution_count": 16,
      "outputs": []
    },
    {
      "cell_type": "code",
      "source": [
        "# Create sequences for training and testing\n",
        "\n",
        "seq_length = 1 # Number of days to look back\n",
        "X_train, y_train = create_sequences(scaled_train_data, seq_length)\n",
        "X_test, y_test = create_sequences(scaled_test_data, seq_length)"
      ],
      "metadata": {
        "id": "N4H1fnGgGv-g"
      },
      "execution_count": 25,
      "outputs": []
    },
    {
      "cell_type": "code",
      "source": [
        "# Build and compile the LSTM model\n",
        "\n",
        "model = Sequential()\n",
        "model.add(LSTM(50, return_sequences=True, input_shape=(seq_length, 1)))\n",
        "model.add(LSTM(50, return_sequences=False))\n",
        "model.add(Dense(25))\n",
        "model.add(Dense(1))\n",
        "model.compile(optimizer='adam', loss='mean_squared_error')\n"
      ],
      "metadata": {
        "id": "yISPSon8GwDo"
      },
      "execution_count": 26,
      "outputs": []
    },
    {
      "cell_type": "code",
      "source": [
        "# Train the model\n",
        "\n",
        "model.fit(X_train, y_train, batch_size=16, epochs=100)"
      ],
      "metadata": {
        "colab": {
          "base_uri": "https://localhost:8080/"
        },
        "id": "vuYhuVXRGwGl",
        "outputId": "7462d2f4-44d1-4853-f69c-172a59d7eda6"
      },
      "execution_count": 27,
      "outputs": [
        {
          "output_type": "stream",
          "name": "stdout",
          "text": [
            "Epoch 1/100\n",
            "2/2 [==============================] - 4s 10ms/step - loss: 0.1365\n",
            "Epoch 2/100\n",
            "2/2 [==============================] - 0s 9ms/step - loss: 0.1283\n",
            "Epoch 3/100\n",
            "2/2 [==============================] - 0s 9ms/step - loss: 0.1198\n",
            "Epoch 4/100\n",
            "2/2 [==============================] - 0s 10ms/step - loss: 0.1150\n",
            "Epoch 5/100\n",
            "2/2 [==============================] - 0s 9ms/step - loss: 0.1092\n",
            "Epoch 6/100\n",
            "2/2 [==============================] - 0s 9ms/step - loss: 0.1053\n",
            "Epoch 7/100\n",
            "2/2 [==============================] - 0s 11ms/step - loss: 0.0989\n",
            "Epoch 8/100\n",
            "2/2 [==============================] - 0s 9ms/step - loss: 0.0954\n",
            "Epoch 9/100\n",
            "2/2 [==============================] - 0s 13ms/step - loss: 0.0925\n",
            "Epoch 10/100\n",
            "2/2 [==============================] - 0s 9ms/step - loss: 0.0888\n",
            "Epoch 11/100\n",
            "2/2 [==============================] - 0s 10ms/step - loss: 0.0857\n",
            "Epoch 12/100\n",
            "2/2 [==============================] - 0s 9ms/step - loss: 0.0843\n",
            "Epoch 13/100\n",
            "2/2 [==============================] - 0s 9ms/step - loss: 0.0812\n",
            "Epoch 14/100\n",
            "2/2 [==============================] - 0s 9ms/step - loss: 0.0803\n",
            "Epoch 15/100\n",
            "2/2 [==============================] - 0s 9ms/step - loss: 0.0792\n",
            "Epoch 16/100\n",
            "2/2 [==============================] - 0s 9ms/step - loss: 0.0778\n",
            "Epoch 17/100\n",
            "2/2 [==============================] - 0s 10ms/step - loss: 0.0760\n",
            "Epoch 18/100\n",
            "2/2 [==============================] - 0s 12ms/step - loss: 0.0746\n",
            "Epoch 19/100\n",
            "2/2 [==============================] - 0s 12ms/step - loss: 0.0735\n",
            "Epoch 20/100\n",
            "2/2 [==============================] - 0s 12ms/step - loss: 0.0714\n",
            "Epoch 21/100\n",
            "2/2 [==============================] - 0s 12ms/step - loss: 0.0695\n",
            "Epoch 22/100\n",
            "2/2 [==============================] - 0s 13ms/step - loss: 0.0672\n",
            "Epoch 23/100\n",
            "2/2 [==============================] - 0s 11ms/step - loss: 0.0652\n",
            "Epoch 24/100\n",
            "2/2 [==============================] - 0s 11ms/step - loss: 0.0630\n",
            "Epoch 25/100\n",
            "2/2 [==============================] - 0s 12ms/step - loss: 0.0610\n",
            "Epoch 26/100\n",
            "2/2 [==============================] - 0s 13ms/step - loss: 0.0584\n",
            "Epoch 27/100\n",
            "2/2 [==============================] - 0s 16ms/step - loss: 0.0553\n",
            "Epoch 28/100\n",
            "2/2 [==============================] - 0s 11ms/step - loss: 0.0519\n",
            "Epoch 29/100\n",
            "2/2 [==============================] - 0s 14ms/step - loss: 0.0489\n",
            "Epoch 30/100\n",
            "2/2 [==============================] - 0s 12ms/step - loss: 0.0455\n",
            "Epoch 31/100\n",
            "2/2 [==============================] - 0s 15ms/step - loss: 0.0423\n",
            "Epoch 32/100\n",
            "2/2 [==============================] - 0s 11ms/step - loss: 0.0392\n",
            "Epoch 33/100\n",
            "2/2 [==============================] - 0s 13ms/step - loss: 0.0360\n",
            "Epoch 34/100\n",
            "2/2 [==============================] - 0s 23ms/step - loss: 0.0332\n",
            "Epoch 35/100\n",
            "2/2 [==============================] - 0s 10ms/step - loss: 0.0297\n",
            "Epoch 36/100\n",
            "2/2 [==============================] - 0s 12ms/step - loss: 0.0263\n",
            "Epoch 37/100\n",
            "2/2 [==============================] - 0s 11ms/step - loss: 0.0239\n",
            "Epoch 38/100\n",
            "2/2 [==============================] - 0s 11ms/step - loss: 0.0208\n",
            "Epoch 39/100\n",
            "2/2 [==============================] - 0s 13ms/step - loss: 0.0182\n",
            "Epoch 40/100\n",
            "2/2 [==============================] - 0s 13ms/step - loss: 0.0161\n",
            "Epoch 41/100\n",
            "2/2 [==============================] - 0s 11ms/step - loss: 0.0141\n",
            "Epoch 42/100\n",
            "2/2 [==============================] - 0s 16ms/step - loss: 0.0127\n",
            "Epoch 43/100\n",
            "2/2 [==============================] - 0s 10ms/step - loss: 0.0116\n",
            "Epoch 44/100\n",
            "2/2 [==============================] - 0s 12ms/step - loss: 0.0109\n",
            "Epoch 45/100\n",
            "2/2 [==============================] - 0s 15ms/step - loss: 0.0104\n",
            "Epoch 46/100\n",
            "2/2 [==============================] - 0s 11ms/step - loss: 0.0105\n",
            "Epoch 47/100\n",
            "2/2 [==============================] - 0s 12ms/step - loss: 0.0103\n",
            "Epoch 48/100\n",
            "2/2 [==============================] - 0s 12ms/step - loss: 0.0104\n",
            "Epoch 49/100\n",
            "2/2 [==============================] - 0s 11ms/step - loss: 0.0106\n",
            "Epoch 50/100\n",
            "2/2 [==============================] - 0s 11ms/step - loss: 0.0107\n",
            "Epoch 51/100\n",
            "2/2 [==============================] - 0s 13ms/step - loss: 0.0113\n",
            "Epoch 52/100\n",
            "2/2 [==============================] - 0s 11ms/step - loss: 0.0109\n",
            "Epoch 53/100\n",
            "2/2 [==============================] - 0s 14ms/step - loss: 0.0108\n",
            "Epoch 54/100\n",
            "2/2 [==============================] - 0s 12ms/step - loss: 0.0106\n",
            "Epoch 55/100\n",
            "2/2 [==============================] - 0s 11ms/step - loss: 0.0103\n",
            "Epoch 56/100\n",
            "2/2 [==============================] - 0s 12ms/step - loss: 0.0106\n",
            "Epoch 57/100\n",
            "2/2 [==============================] - 0s 9ms/step - loss: 0.0109\n",
            "Epoch 58/100\n",
            "2/2 [==============================] - 0s 9ms/step - loss: 0.0110\n",
            "Epoch 59/100\n",
            "2/2 [==============================] - 0s 9ms/step - loss: 0.0110\n",
            "Epoch 60/100\n",
            "2/2 [==============================] - 0s 10ms/step - loss: 0.0107\n",
            "Epoch 61/100\n",
            "2/2 [==============================] - 0s 9ms/step - loss: 0.0105\n",
            "Epoch 62/100\n",
            "2/2 [==============================] - 0s 10ms/step - loss: 0.0105\n",
            "Epoch 63/100\n",
            "2/2 [==============================] - 0s 9ms/step - loss: 0.0104\n",
            "Epoch 64/100\n",
            "2/2 [==============================] - 0s 9ms/step - loss: 0.0105\n",
            "Epoch 65/100\n",
            "2/2 [==============================] - 0s 10ms/step - loss: 0.0104\n",
            "Epoch 66/100\n",
            "2/2 [==============================] - 0s 13ms/step - loss: 0.0105\n",
            "Epoch 67/100\n",
            "2/2 [==============================] - 0s 15ms/step - loss: 0.0104\n",
            "Epoch 68/100\n",
            "2/2 [==============================] - 0s 14ms/step - loss: 0.0104\n",
            "Epoch 69/100\n",
            "2/2 [==============================] - 0s 10ms/step - loss: 0.0102\n",
            "Epoch 70/100\n",
            "2/2 [==============================] - 0s 11ms/step - loss: 0.0101\n",
            "Epoch 71/100\n",
            "2/2 [==============================] - 0s 9ms/step - loss: 0.0100\n",
            "Epoch 72/100\n",
            "2/2 [==============================] - 0s 14ms/step - loss: 0.0099\n",
            "Epoch 73/100\n",
            "2/2 [==============================] - 0s 14ms/step - loss: 0.0098\n",
            "Epoch 74/100\n",
            "2/2 [==============================] - 0s 13ms/step - loss: 0.0099\n",
            "Epoch 75/100\n",
            "2/2 [==============================] - 0s 9ms/step - loss: 0.0098\n",
            "Epoch 76/100\n",
            "2/2 [==============================] - 0s 12ms/step - loss: 0.0099\n",
            "Epoch 77/100\n",
            "2/2 [==============================] - 0s 10ms/step - loss: 0.0100\n",
            "Epoch 78/100\n",
            "2/2 [==============================] - 0s 10ms/step - loss: 0.0102\n",
            "Epoch 79/100\n",
            "2/2 [==============================] - 0s 9ms/step - loss: 0.0108\n",
            "Epoch 80/100\n",
            "2/2 [==============================] - 0s 9ms/step - loss: 0.0111\n",
            "Epoch 81/100\n",
            "2/2 [==============================] - 0s 9ms/step - loss: 0.0110\n",
            "Epoch 82/100\n",
            "2/2 [==============================] - 0s 10ms/step - loss: 0.0106\n",
            "Epoch 83/100\n",
            "2/2 [==============================] - 0s 10ms/step - loss: 0.0105\n",
            "Epoch 84/100\n",
            "2/2 [==============================] - 0s 10ms/step - loss: 0.0103\n",
            "Epoch 85/100\n",
            "2/2 [==============================] - 0s 10ms/step - loss: 0.0104\n",
            "Epoch 86/100\n",
            "2/2 [==============================] - 0s 10ms/step - loss: 0.0104\n",
            "Epoch 87/100\n",
            "2/2 [==============================] - 0s 9ms/step - loss: 0.0103\n",
            "Epoch 88/100\n",
            "2/2 [==============================] - 0s 10ms/step - loss: 0.0102\n",
            "Epoch 89/100\n",
            "2/2 [==============================] - 0s 10ms/step - loss: 0.0100\n",
            "Epoch 90/100\n",
            "2/2 [==============================] - 0s 9ms/step - loss: 0.0099\n",
            "Epoch 91/100\n",
            "2/2 [==============================] - 0s 9ms/step - loss: 0.0100\n",
            "Epoch 92/100\n",
            "2/2 [==============================] - 0s 9ms/step - loss: 0.0100\n",
            "Epoch 93/100\n",
            "2/2 [==============================] - 0s 10ms/step - loss: 0.0101\n",
            "Epoch 94/100\n",
            "2/2 [==============================] - 0s 10ms/step - loss: 0.0101\n",
            "Epoch 95/100\n",
            "2/2 [==============================] - 0s 13ms/step - loss: 0.0102\n",
            "Epoch 96/100\n",
            "2/2 [==============================] - 0s 10ms/step - loss: 0.0101\n",
            "Epoch 97/100\n",
            "2/2 [==============================] - 0s 10ms/step - loss: 0.0098\n",
            "Epoch 98/100\n",
            "2/2 [==============================] - 0s 12ms/step - loss: 0.0096\n",
            "Epoch 99/100\n",
            "2/2 [==============================] - 0s 12ms/step - loss: 0.0093\n",
            "Epoch 100/100\n",
            "2/2 [==============================] - 0s 11ms/step - loss: 0.0093\n"
          ]
        },
        {
          "output_type": "execute_result",
          "data": {
            "text/plain": [
              "<keras.src.callbacks.History at 0x7c7376dc9ff0>"
            ]
          },
          "metadata": {},
          "execution_count": 27
        }
      ]
    },
    {
      "cell_type": "code",
      "source": [
        "# Make predictions and inverse transform the results\n",
        "\n",
        "predictions = model.predict(X_test)\n",
        "predictions = scaler.inverse_transform(predictions) # only for standardized series\n",
        "y_test = scaler.inverse_transform(y_test)"
      ],
      "metadata": {
        "colab": {
          "base_uri": "https://localhost:8080/"
        },
        "id": "MEb4IH80GwJH",
        "outputId": "3c14e2ea-bd2a-4790-d92e-f7d5be67352c"
      },
      "execution_count": 28,
      "outputs": [
        {
          "output_type": "stream",
          "name": "stdout",
          "text": [
            "1/1 [==============================] - 1s 1s/step\n"
          ]
        }
      ]
    },
    {
      "cell_type": "code",
      "source": [
        "predictions # display results"
      ],
      "metadata": {
        "id": "Nv5I7dhPI8Pt",
        "colab": {
          "base_uri": "https://localhost:8080/"
        },
        "outputId": "559c99d4-0987-473e-d04e-68b091078021"
      },
      "execution_count": 29,
      "outputs": [
        {
          "output_type": "execute_result",
          "data": {
            "text/plain": [
              "array([[10127.942],\n",
              "       [12690.136],\n",
              "       [12082.199]], dtype=float32)"
            ]
          },
          "metadata": {},
          "execution_count": 29
        }
      ]
    },
    {
      "cell_type": "code",
      "source": [
        "# Evaluate the predictions\n",
        "\n",
        "rmse = np.sqrt(mean_squared_error(y_test, predictions))\n",
        "mape = mean_absolute_percentage_error(y_test, predictions)\n",
        "\n",
        "print(f'Root Mean Squared Error for LSTM: {rmse}')\n",
        "print(f'Mean Absolute Percentage Error for LSTM: {mape}')\n"
      ],
      "metadata": {
        "id": "_yOkW6IIGwMA",
        "colab": {
          "base_uri": "https://localhost:8080/"
        },
        "outputId": "38e28838-8cff-4570-b772-1c53fd0d9797"
      },
      "execution_count": 30,
      "outputs": [
        {
          "output_type": "stream",
          "name": "stdout",
          "text": [
            "Root Mean Squared Error for LSTM: 1334.721899544532\n",
            "Mean Absolute Percentage Error for LSTM: 0.09689155785112445\n"
          ]
        }
      ]
    },
    {
      "cell_type": "code",
      "source": [
        "# Visualize the predictions as shown in Figure 5\n",
        "\n",
        "days = [\"Day 1\", \"Day 2\", \"Day 3\"]\n",
        "actual_new_cases = y_test\n",
        "predicted_new_cases = predictions\n",
        "\n",
        "plt.figure(figsize=(12, 5))\n",
        "plt.plot(days, actual_new_cases, marker='o', linestyle='-', color='blue', label='Actual New Cases')\n",
        "plt.plot(days, predicted_new_cases, marker='o', linestyle='--', color='red', label='Predicted New Cases using LSTM')\n",
        "\n",
        "plt.title('COVID-19 New Cases Prediction using LSTM')\n",
        "plt.xlabel('Prediction')\n",
        "plt.ylabel('New Cases')\n",
        "plt.legend()\n",
        "\n",
        "plt.grid(True)\n",
        "plt.show()"
      ],
      "metadata": {
        "id": "KsvPSOCjl3kL",
        "colab": {
          "base_uri": "https://localhost:8080/",
          "height": 487
        },
        "outputId": "945f705e-8067-41be-a769-1ea1e6e8e125"
      },
      "execution_count": 31,
      "outputs": [
        {
          "output_type": "display_data",
          "data": {
            "text/plain": [
              "<Figure size 1200x500 with 1 Axes>"
            ],
            "image/png": "[encoded data removed]"
          },
          "metadata": {}
        }
      ]
    },
    {
      "cell_type": "code",
      "source": [
        "y_test"
      ],
      "metadata": {
        "id": "lb5npIH_nMpg",
        "outputId": "a3b2d8bd-671b-4285-8254-aed8a0efb198",
        "colab": {
          "base_uri": "https://localhost:8080/"
        }
      },
      "execution_count": 37,
      "outputs": [
        {
          "output_type": "execute_result",
          "data": {
            "text/plain": [
              "array([[11152.],\n",
              "       [10618.],\n",
              "       [12127.]])"
            ]
          },
          "metadata": {},
          "execution_count": 37
        }
      ]
    },
    {
      "cell_type": "code",
      "source": [],
      "metadata": {
        "id": "TaTpRLZxGwUQ"
      },
      "execution_count": null,
      "outputs": []
    },
    {
      "cell_type": "code",
      "source": [],
      "metadata": {
        "id": "3JL3MF3pGwXz"
      },
      "execution_count": null,
      "outputs": []
    }
  ]
}