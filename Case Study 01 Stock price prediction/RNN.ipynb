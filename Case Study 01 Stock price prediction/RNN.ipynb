{
  "nbformat": 4,
  "nbformat_minor": 0,
  "metadata": {
    "colab": {
      "provenance": []
    },
    "kernelspec": {
      "name": "python3",
      "display_name": "Python 3"
    },
    "language_info": {
      "name": "python"
    }
  },
  "cells": [
    {
      "cell_type": "code",
      "execution_count": 1,
      "metadata": {
        "id": "h0Kr6gLJKJMZ"
      },
      "outputs": [],
      "source": [
        "# Manage warning messages\n",
        "\n",
        "import os, warnings\n",
        "warnings.filterwarnings('ignore')"
      ]
    },
    {
      "cell_type": "code",
      "source": [
        "# Import necessary libraries\n",
        "\n",
        "import numpy as np\n",
        "import pandas as pd\n",
        "import yfinance as yf\n",
        "import matplotlib.pyplot as plt\n",
        "from sklearn.preprocessing import MinMaxScaler\n",
        "from keras.models import Sequential\n",
        "from keras.layers import Dense, SimpleRNN, Dropout\n",
        "from sklearn.metrics import mean_squared_error, mean_absolute_percentage_error\n",
        "from keras.callbacks import EarlyStopping, ReduceLROnPlateau"
      ],
      "metadata": {
        "id": "yy_NVAMUKLCw"
      },
      "execution_count": 2,
      "outputs": []
    },
    {
      "cell_type": "code",
      "source": [
        "# Download and preprocess stock data as described in 5.1\n",
        "\n",
        "df = yf.download('JPM', start='1980-01-01', end='2024-01-01')\n",
        "df.index = pd.to_datetime(df.index)\n",
        "df = df.asfreq('B')\n",
        "df['Close'].interpolate(method='linear', inplace=True)"
      ],
      "metadata": {
        "colab": {
          "base_uri": "https://localhost:8080/"
        },
        "id": "QtMdxFzeKLFD",
        "outputId": "ec6432f6-a12d-49a8-cce4-e16b22fe0111"
      },
      "execution_count": 3,
      "outputs": [
        {
          "output_type": "stream",
          "name": "stderr",
          "text": [
            "\r[*********************100%%**********************]  1 of 1 completed\n"
          ]
        }
      ]
    },
    {
      "cell_type": "code",
      "source": [
        "# Define the size of the training and testing set\n",
        "\n",
        "train_size = int(len(df) * 0.8)\n",
        "train_data = df['Close'][:train_size]\n",
        "test_data = df['Close'][train_size:]\n"
      ],
      "metadata": {
        "id": "Q7ch5rjcla0g"
      },
      "execution_count": 4,
      "outputs": []
    },
    {
      "cell_type": "code",
      "source": [
        "# Scale the data to the range [0, 1]\n",
        "\n",
        "scaler = MinMaxScaler(feature_range=(0, 1))\n",
        "scaled_train = scaler.fit_transform(np.array(train_data).reshape(-1, 1))\n",
        "scaled_test = scaler.transform(np.array(test_data).reshape(-1, 1))\n"
      ],
      "metadata": {
        "id": "WBoXmrpslcgP"
      },
      "execution_count": 5,
      "outputs": []
    },
    {
      "cell_type": "code",
      "source": [
        "# Function to create sequences of data for RNN input\n",
        "\n",
        "def create_sequences(data, time_step):\n",
        "    X, y = [], []\n",
        "    for i in range(len(data) - time_step):\n",
        "        X.append(data[i:(i + time_step), 0])\n",
        "        y.append(data[i + time_step, 0])\n",
        "    return np.array(X), np.array(y)\n"
      ],
      "metadata": {
        "id": "4JJr7DDUlcjK"
      },
      "execution_count": 6,
      "outputs": []
    },
    {
      "cell_type": "code",
      "source": [
        "time_step = 5  # Number of time steps to look back\n"
      ],
      "metadata": {
        "id": "LuHxYBdAlclw"
      },
      "execution_count": 7,
      "outputs": []
    },
    {
      "cell_type": "code",
      "source": [
        "# Create training sequences\n",
        "\n",
        "X_train, y_train = create_sequences(scaled_train, time_step)\n",
        "X_test, y_test = create_sequences(np.concatenate((scaled_train[-time_step:], scaled_test)), time_step)"
      ],
      "metadata": {
        "id": "7KJo0Vg2AaYX"
      },
      "execution_count": 8,
      "outputs": []
    },
    {
      "cell_type": "code",
      "source": [
        "# Reshape the data for RNN input\n",
        "\n",
        "X_train = X_train.reshape(X_train.shape[0], X_train.shape[1], 1)\n",
        "X_test = X_test.reshape(X_test.shape[0], X_test.shape[1], 1)"
      ],
      "metadata": {
        "id": "u6CgeTvPlcoV"
      },
      "execution_count": null,
      "outputs": []
    },
    {
      "cell_type": "code",
      "source": [
        "# Build and compile the RNN model\n",
        "\n",
        "model = Sequential()\n",
        "model.add(SimpleRNN(50, input_shape=(time_step, 1)))\n",
        "model.add(Dense(25))\n",
        "model.add(Dense(1))\n",
        "\n",
        "model.compile(optimizer='adam', loss='mean_squared_error')"
      ],
      "metadata": {
        "id": "YaGHEVN9lcq7"
      },
      "execution_count": null,
      "outputs": []
    },
    {
      "cell_type": "code",
      "source": [
        "# Train the model\n",
        "history = model.fit(X_train, y_train, batch_size=64, epochs=25, validation_data=(X_test, y_test))"
      ],
      "metadata": {
        "colab": {
          "base_uri": "https://localhost:8080/"
        },
        "id": "Nu-rKYs6lctq",
        "outputId": "0ad62694-7cd0-4127-eaac-b5ec5955c28f"
      },
      "execution_count": null,
      "outputs": [
        {
          "output_type": "stream",
          "name": "stdout",
          "text": [
            "Epoch 1/25\n",
            "143/143 [==============================] - 7s 13ms/step - loss: 0.0064 - val_loss: 0.6235\n",
            "Epoch 2/25\n",
            "143/143 [==============================] - 1s 7ms/step - loss: 5.4445e-04 - val_loss: 0.3493\n",
            "Epoch 3/25\n",
            "143/143 [==============================] - 1s 8ms/step - loss: 3.1096e-04 - val_loss: 0.1976\n",
            "Epoch 4/25\n",
            "143/143 [==============================] - 1s 10ms/step - loss: 2.4004e-04 - val_loss: 0.1371\n",
            "Epoch 5/25\n",
            "143/143 [==============================] - 1s 8ms/step - loss: 2.0609e-04 - val_loss: 0.1000\n",
            "Epoch 6/25\n",
            "143/143 [==============================] - 1s 8ms/step - loss: 1.9707e-04 - val_loss: 0.0852\n",
            "Epoch 7/25\n",
            "143/143 [==============================] - 1s 9ms/step - loss: 1.8496e-04 - val_loss: 0.0746\n",
            "Epoch 8/25\n",
            "143/143 [==============================] - 1s 7ms/step - loss: 1.8964e-04 - val_loss: 0.0654\n",
            "Epoch 9/25\n",
            "143/143 [==============================] - 1s 8ms/step - loss: 1.8344e-04 - val_loss: 0.0617\n",
            "Epoch 10/25\n",
            "143/143 [==============================] - 1s 10ms/step - loss: 1.6107e-04 - val_loss: 0.0616\n",
            "Epoch 11/25\n",
            "143/143 [==============================] - 1s 9ms/step - loss: 1.6709e-04 - val_loss: 0.0535\n",
            "Epoch 12/25\n",
            "143/143 [==============================] - 1s 9ms/step - loss: 1.5760e-04 - val_loss: 0.0590\n",
            "Epoch 13/25\n",
            "143/143 [==============================] - 1s 7ms/step - loss: 1.9237e-04 - val_loss: 0.0523\n",
            "Epoch 14/25\n",
            "143/143 [==============================] - 1s 7ms/step - loss: 1.4533e-04 - val_loss: 0.0385\n",
            "Epoch 15/25\n",
            "143/143 [==============================] - 1s 7ms/step - loss: 1.5314e-04 - val_loss: 0.0465\n",
            "Epoch 16/25\n",
            "143/143 [==============================] - 1s 7ms/step - loss: 1.6408e-04 - val_loss: 0.0372\n",
            "Epoch 17/25\n",
            "143/143 [==============================] - 1s 9ms/step - loss: 1.4579e-04 - val_loss: 0.0356\n",
            "Epoch 18/25\n",
            "143/143 [==============================] - 1s 6ms/step - loss: 1.6031e-04 - val_loss: 0.0346\n",
            "Epoch 19/25\n",
            "143/143 [==============================] - 1s 6ms/step - loss: 1.4777e-04 - val_loss: 0.0292\n",
            "Epoch 20/25\n",
            "143/143 [==============================] - 1s 6ms/step - loss: 1.6472e-04 - val_loss: 0.0390\n",
            "Epoch 21/25\n",
            "143/143 [==============================] - 1s 7ms/step - loss: 1.4807e-04 - val_loss: 0.0270\n",
            "Epoch 22/25\n",
            "143/143 [==============================] - 1s 7ms/step - loss: 1.6324e-04 - val_loss: 0.0285\n",
            "Epoch 23/25\n",
            "143/143 [==============================] - 1s 8ms/step - loss: 1.6085e-04 - val_loss: 0.0282\n",
            "Epoch 24/25\n",
            "143/143 [==============================] - 1s 7ms/step - loss: 1.4872e-04 - val_loss: 0.0315\n",
            "Epoch 25/25\n",
            "143/143 [==============================] - 1s 6ms/step - loss: 1.5234e-04 - val_loss: 0.0321\n"
          ]
        }
      ]
    },
    {
      "cell_type": "code",
      "source": [
        "# Make predictions on the training and test data\n",
        "\n",
        "train_predict = model.predict(X_train)\n",
        "test_predict = model.predict(X_test)\n"
      ],
      "metadata": {
        "colab": {
          "base_uri": "https://localhost:8080/"
        },
        "id": "CGeW_iudlcwS",
        "outputId": "ecb884ae-4b1b-4cfc-efa1-a86bdd7c2862"
      },
      "execution_count": null,
      "outputs": [
        {
          "output_type": "stream",
          "name": "stdout",
          "text": [
            "286/286 [==============================] - 1s 4ms/step\n",
            "72/72 [==============================] - 0s 2ms/step\n"
          ]
        }
      ]
    },
    {
      "cell_type": "code",
      "source": [
        "# Inverse transform the predictions to the original scale\n",
        "\n",
        "train_predict = scaler.inverse_transform(train_predict)\n",
        "test_predict = scaler.inverse_transform(test_predict)\n"
      ],
      "metadata": {
        "id": "ekXPIe0Ulcy6"
      },
      "execution_count": null,
      "outputs": []
    },
    {
      "cell_type": "code",
      "source": [
        "# Fetch the actual stock prices for the forecast period\n",
        "\n",
        "actual_2024 = yf.download('JPM', start='2024-01-02', end='2024-01-05')\n",
        "actual_2024_prices = actual_2024['Close'].values"
      ],
      "metadata": {
        "colab": {
          "base_uri": "https://localhost:8080/"
        },
        "id": "fY7pccMClc4Y",
        "outputId": "22a99562-35a3-4a53-fad5-24d2d674eb88"
      },
      "execution_count": null,
      "outputs": [
        {
          "output_type": "stream",
          "name": "stderr",
          "text": [
            "\r[*********************100%%**********************]  1 of 1 completed\n"
          ]
        }
      ]
    },
    {
      "cell_type": "code",
      "source": [
        "next = 3  # Number of days to forecast"
      ],
      "metadata": {
        "id": "cRHM7Y7cwi1C"
      },
      "execution_count": null,
      "outputs": []
    },
    {
      "cell_type": "code",
      "source": [
        "# Prepare the input for future predictions\n",
        "\n",
        "future_inputs = df['Close'][-time_step:].values.reshape(1, time_step, 1)\n",
        "future_predictions = []\n",
        "for _ in range(next):\n",
        "    future_pred = model.predict(future_inputs)\n",
        "    future_predictions.append(future_pred[0, 0])\n",
        "    future_inputs = np.append(future_inputs[:, 1:, :], future_pred.reshape(1, 1, 1), axis=1)\n",
        "\n",
        "# Inverse transform the future predictions to the original scale\n",
        "future_predictions = scaler.inverse_transform(np.array(future_predictions).reshape(-1, 1))\n"
      ],
      "metadata": {
        "colab": {
          "base_uri": "https://localhost:8080/"
        },
        "id": "JI699lWMDiKI",
        "outputId": "2e92c5f0-9f07-4cc5-e580-f7d16c604508"
      },
      "execution_count": null,
      "outputs": [
        {
          "output_type": "stream",
          "name": "stdout",
          "text": [
            "1/1 [==============================] - 0s 23ms/step\n",
            "1/1 [==============================] - 0s 23ms/step\n",
            "1/1 [==============================] - 0s 22ms/step\n"
          ]
        }
      ]
    },
    {
      "cell_type": "code",
      "source": [
        "# Fetch the actual future stock prices for comparison\n",
        "\n",
        "actual_future_df = yf.download('JPM', start='2024-01-02', end='2024-01-05')\n",
        "actual_future_prices = actual_future_df['Close'].values\n"
      ],
      "metadata": {
        "colab": {
          "base_uri": "https://localhost:8080/"
        },
        "id": "R5VnpKyBDxTI",
        "outputId": "f670f376-0fad-43ef-80ce-d7cf9a589ba3"
      },
      "execution_count": null,
      "outputs": [
        {
          "output_type": "stream",
          "name": "stderr",
          "text": [
            "\r[*********************100%%**********************]  1 of 1 completed\n"
          ]
        }
      ]
    },
    {
      "cell_type": "code",
      "source": [
        "future_predictions"
      ],
      "metadata": {
        "id": "NjjBVvyUDDyS",
        "outputId": "034434fc-33e3-4e74-fad4-af3b3704419a",
        "colab": {
          "base_uri": "https://localhost:8080/"
        }
      },
      "execution_count": null,
      "outputs": [
        {
          "output_type": "execute_result",
          "data": {
            "text/plain": [
              "array([[236.50453],\n",
              "       [157.90698],\n",
              "       [114.85618]], dtype=float32)"
            ]
          },
          "metadata": {},
          "execution_count": 24
        }
      ]
    },
    {
      "cell_type": "code",
      "source": [
        "future_rmse = np.sqrt(mean_squared_error(actual_future_prices, future_predictions))\n",
        "future_mape = mean_absolute_percentage_error(actual_future_prices, future_predictions)\n",
        "print(f'Future RMSE: {future_rmse}')\n",
        "print(f'Future MAPE: {future_mape}')\n"
      ],
      "metadata": {
        "colab": {
          "base_uri": "https://localhost:8080/"
        },
        "id": "F3tqlvf_D5Gp",
        "outputId": "1695ea4e-8098-44d6-f259-f6dd9f909415"
      },
      "execution_count": null,
      "outputs": [
        {
          "output_type": "stream",
          "name": "stdout",
          "text": [
            "Future RMSE: 50.096682140595505\n",
            "Future MAPE: 0.26088870955260085\n"
          ]
        }
      ]
    },
    {
      "cell_type": "code",
      "source": [],
      "metadata": {
        "id": "Agz9ILPGlc7c"
      },
      "execution_count": null,
      "outputs": []
    },
    {
      "cell_type": "code",
      "source": [],
      "metadata": {
        "id": "N2ZQuUrLD3SN"
      },
      "execution_count": null,
      "outputs": []
    }
  ]
}