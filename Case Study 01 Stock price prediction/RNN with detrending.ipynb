{
  "nbformat": 4,
  "nbformat_minor": 0,
  "metadata": {
    "colab": {
      "provenance": []
    },
    "kernelspec": {
      "name": "python3",
      "display_name": "Python 3"
    },
    "language_info": {
      "name": "python"
    }
  },
  "cells": [
    {
      "cell_type": "code",
      "execution_count": null,
      "metadata": {
        "id": "h0Kr6gLJKJMZ"
      },
      "outputs": [],
      "source": [
        "# Manage warning messages\n",
        "\n",
        "import os, warnings\n",
        "warnings.filterwarnings('ignore')"
      ]
    },
    {
      "cell_type": "code",
      "source": [
        "# Import necessary libraries\n",
        "\n",
        "import numpy as np\n",
        "import pandas as pd\n",
        "import yfinance as yf\n",
        "import matplotlib.pyplot as plt\n",
        "from sklearn.preprocessing import MinMaxScaler\n",
        "from keras.models import Sequential\n",
        "from keras.layers import Dense, SimpleRNN, Dropout\n",
        "from sklearn.metrics import mean_squared_error, mean_absolute_percentage_error\n",
        "from keras.callbacks import EarlyStopping, ReduceLROnPlateau"
      ],
      "metadata": {
        "id": "yy_NVAMUKLCw"
      },
      "execution_count": 1,
      "outputs": []
    },
    {
      "cell_type": "code",
      "source": [
        "# Download and preprocess stock data as described in 5.1\n",
        "\n",
        "df = yf.download('JPM', start='1980-01-01', end='2024-01-01')\n",
        "df.index = pd.to_datetime(df.index)\n",
        "df = df.asfreq('B')\n",
        "df['Close'].interpolate(method='linear', inplace=True)"
      ],
      "metadata": {
        "colab": {
          "base_uri": "https://localhost:8080/"
        },
        "id": "QtMdxFzeKLFD",
        "outputId": "0855cc35-0895-40b8-e0db-71f5624d7f76"
      },
      "execution_count": 4,
      "outputs": [
        {
          "output_type": "stream",
          "name": "stderr",
          "text": [
            "\r[*********************100%%**********************]  1 of 1 completed\n"
          ]
        }
      ]
    },
    {
      "cell_type": "code",
      "source": [
        "# Define the size of the training and testing set\n",
        "\n",
        "train_size = int(len(df) * 0.8)\n",
        "train_data = df['Close'][:train_size]\n",
        "test_data = df['Close'][train_size:]\n"
      ],
      "metadata": {
        "id": "Q7ch5rjcla0g"
      },
      "execution_count": 5,
      "outputs": []
    },
    {
      "cell_type": "code",
      "source": [
        "# train_data"
      ],
      "metadata": {
        "id": "hXofUXKcq71g"
      },
      "execution_count": 6,
      "outputs": []
    },
    {
      "cell_type": "code",
      "source": [
        "# Detrending the time series\n",
        "\n",
        "train_data_diff = train_data.diff().dropna()\n",
        "test_data_diff = test_data.diff().dropna()"
      ],
      "metadata": {
        "id": "vTEErj8QqzAq"
      },
      "execution_count": 7,
      "outputs": []
    },
    {
      "cell_type": "code",
      "source": [
        "# Scale the data to the range [0, 1]\n",
        "\n",
        "scaler = MinMaxScaler(feature_range=(0, 1))\n",
        "scaled_train = scaler.fit_transform(np.array(train_data_diff).reshape(-1, 1))\n",
        "scaled_test = scaler.transform(np.array(test_data_diff).reshape(-1, 1))\n"
      ],
      "metadata": {
        "id": "WBoXmrpslcgP"
      },
      "execution_count": 120,
      "outputs": []
    },
    {
      "cell_type": "code",
      "source": [
        "# Function to create sequences of data for RNN input\n",
        "\n",
        "def create_sequences(data, time_step):\n",
        "    X, y = [], []\n",
        "    for i in range(len(data) - time_step):\n",
        "        X.append(data[i:(i + time_step), 0])\n",
        "        y.append(data[i + time_step, 0])\n",
        "    return np.array(X), np.array(y)\n"
      ],
      "metadata": {
        "id": "4JJr7DDUlcjK"
      },
      "execution_count": 121,
      "outputs": []
    },
    {
      "cell_type": "code",
      "source": [
        "time_step = 3  # Number of time steps to look back\n"
      ],
      "metadata": {
        "id": "LuHxYBdAlclw"
      },
      "execution_count": 122,
      "outputs": []
    },
    {
      "cell_type": "code",
      "source": [
        "# Create training sequences\n",
        "\n",
        "X_train, y_train = create_sequences(scaled_train, time_step)\n",
        "X_test, y_test = create_sequences(np.concatenate((scaled_train[-time_step:], scaled_test)), time_step)"
      ],
      "metadata": {
        "id": "7KJo0Vg2AaYX"
      },
      "execution_count": 123,
      "outputs": []
    },
    {
      "cell_type": "code",
      "source": [
        "# Reshape the data for RNN input\n",
        "\n",
        "X_train = X_train.reshape(X_train.shape[0], X_train.shape[1], 1)\n",
        "X_test = X_test.reshape(X_test.shape[0], X_test.shape[1], 1)"
      ],
      "metadata": {
        "id": "u6CgeTvPlcoV"
      },
      "execution_count": 124,
      "outputs": []
    },
    {
      "cell_type": "code",
      "source": [
        "# Build and compile the RNN model\n",
        "\n",
        "model = Sequential()\n",
        "model.add(SimpleRNN(100, return_sequences=True, input_shape=(time_step, 1)))\n",
        "model.add(SimpleRNN(100, return_sequences=False, input_shape=(time_step, 1)))\n",
        "model.add(Dense(50))\n",
        "model.add(Dense(1))\n",
        "\n",
        "model.compile(optimizer='adam', loss='mean_squared_error')"
      ],
      "metadata": {
        "id": "YaGHEVN9lcq7",
        "colab": {
          "base_uri": "https://localhost:8080/"
        },
        "outputId": "8da283b4-23ce-42e6-9dda-63699cf8b771"
      },
      "execution_count": 125,
      "outputs": [
        {
          "output_type": "stream",
          "name": "stderr",
          "text": [
            "/usr/local/lib/python3.10/dist-packages/keras/src/layers/rnn/rnn.py:204: UserWarning: Do not pass an `input_shape`/`input_dim` argument to a layer. When using Sequential models, prefer using an `Input(shape)` object as the first layer in the model instead.\n",
            "  super().__init__(**kwargs)\n"
          ]
        }
      ]
    },
    {
      "cell_type": "code",
      "source": [
        "# Train the model\n",
        "history = model.fit(X_train, y_train, batch_size=16, epochs=50, validation_data=(X_test, y_test))"
      ],
      "metadata": {
        "colab": {
          "base_uri": "https://localhost:8080/"
        },
        "id": "Nu-rKYs6lctq",
        "outputId": "f6d43718-d490-401f-a1f1-dc66d4b652e7"
      },
      "execution_count": 126,
      "outputs": [
        {
          "output_type": "stream",
          "name": "stdout",
          "text": [
            "Epoch 1/50\n",
            "\u001b[1m571/571\u001b[0m \u001b[32m━━━━━━━━━━━━━━━━━━━━\u001b[0m\u001b[37m\u001b[0m \u001b[1m5s\u001b[0m 5ms/step - loss: 0.0220 - val_loss: 0.0182\n",
            "Epoch 2/50\n",
            "\u001b[1m571/571\u001b[0m \u001b[32m━━━━━━━━━━━━━━━━━━━━\u001b[0m\u001b[37m\u001b[0m \u001b[1m6s\u001b[0m 6ms/step - loss: 0.0030 - val_loss: 0.0177\n",
            "Epoch 3/50\n",
            "\u001b[1m571/571\u001b[0m \u001b[32m━━━━━━━━━━━━━━━━━━━━\u001b[0m\u001b[37m\u001b[0m \u001b[1m4s\u001b[0m 4ms/step - loss: 0.0029 - val_loss: 0.0175\n",
            "Epoch 4/50\n",
            "\u001b[1m571/571\u001b[0m \u001b[32m━━━━━━━━━━━━━━━━━━━━\u001b[0m\u001b[37m\u001b[0m \u001b[1m2s\u001b[0m 4ms/step - loss: 0.0029 - val_loss: 0.0179\n",
            "Epoch 5/50\n",
            "\u001b[1m571/571\u001b[0m \u001b[32m━━━━━━━━━━━━━━━━━━━━\u001b[0m\u001b[37m\u001b[0m \u001b[1m2s\u001b[0m 4ms/step - loss: 0.0028 - val_loss: 0.0173\n",
            "Epoch 6/50\n",
            "\u001b[1m571/571\u001b[0m \u001b[32m━━━━━━━━━━━━━━━━━━━━\u001b[0m\u001b[37m\u001b[0m \u001b[1m4s\u001b[0m 6ms/step - loss: 0.0026 - val_loss: 0.0177\n",
            "Epoch 7/50\n",
            "\u001b[1m571/571\u001b[0m \u001b[32m━━━━━━━━━━━━━━━━━━━━\u001b[0m\u001b[37m\u001b[0m \u001b[1m2s\u001b[0m 4ms/step - loss: 0.0026 - val_loss: 0.0175\n",
            "Epoch 8/50\n",
            "\u001b[1m571/571\u001b[0m \u001b[32m━━━━━━━━━━━━━━━━━━━━\u001b[0m\u001b[37m\u001b[0m \u001b[1m3s\u001b[0m 4ms/step - loss: 0.0027 - val_loss: 0.0174\n",
            "Epoch 9/50\n",
            "\u001b[1m571/571\u001b[0m \u001b[32m━━━━━━━━━━━━━━━━━━━━\u001b[0m\u001b[37m\u001b[0m \u001b[1m3s\u001b[0m 4ms/step - loss: 0.0025 - val_loss: 0.0172\n",
            "Epoch 10/50\n",
            "\u001b[1m571/571\u001b[0m \u001b[32m━━━━━━━━━━━━━━━━━━━━\u001b[0m\u001b[37m\u001b[0m \u001b[1m2s\u001b[0m 4ms/step - loss: 0.0027 - val_loss: 0.0173\n",
            "Epoch 11/50\n",
            "\u001b[1m571/571\u001b[0m \u001b[32m━━━━━━━━━━━━━━━━━━━━\u001b[0m\u001b[37m\u001b[0m \u001b[1m4s\u001b[0m 6ms/step - loss: 0.0027 - val_loss: 0.0173\n",
            "Epoch 12/50\n",
            "\u001b[1m571/571\u001b[0m \u001b[32m━━━━━━━━━━━━━━━━━━━━\u001b[0m\u001b[37m\u001b[0m \u001b[1m4s\u001b[0m 4ms/step - loss: 0.0028 - val_loss: 0.0172\n",
            "Epoch 13/50\n",
            "\u001b[1m571/571\u001b[0m \u001b[32m━━━━━━━━━━━━━━━━━━━━\u001b[0m\u001b[37m\u001b[0m \u001b[1m2s\u001b[0m 4ms/step - loss: 0.0026 - val_loss: 0.0172\n",
            "Epoch 14/50\n",
            "\u001b[1m571/571\u001b[0m \u001b[32m━━━━━━━━━━━━━━━━━━━━\u001b[0m\u001b[37m\u001b[0m \u001b[1m3s\u001b[0m 4ms/step - loss: 0.0026 - val_loss: 0.0180\n",
            "Epoch 15/50\n",
            "\u001b[1m571/571\u001b[0m \u001b[32m━━━━━━━━━━━━━━━━━━━━\u001b[0m\u001b[37m\u001b[0m \u001b[1m3s\u001b[0m 5ms/step - loss: 0.0028 - val_loss: 0.0173\n",
            "Epoch 16/50\n",
            "\u001b[1m571/571\u001b[0m \u001b[32m━━━━━━━━━━━━━━━━━━━━\u001b[0m\u001b[37m\u001b[0m \u001b[1m5s\u001b[0m 4ms/step - loss: 0.0026 - val_loss: 0.0174\n",
            "Epoch 17/50\n",
            "\u001b[1m571/571\u001b[0m \u001b[32m━━━━━━━━━━━━━━━━━━━━\u001b[0m\u001b[37m\u001b[0m \u001b[1m2s\u001b[0m 4ms/step - loss: 0.0025 - val_loss: 0.0176\n",
            "Epoch 18/50\n",
            "\u001b[1m571/571\u001b[0m \u001b[32m━━━━━━━━━━━━━━━━━━━━\u001b[0m\u001b[37m\u001b[0m \u001b[1m2s\u001b[0m 4ms/step - loss: 0.0028 - val_loss: 0.0174\n",
            "Epoch 19/50\n",
            "\u001b[1m571/571\u001b[0m \u001b[32m━━━━━━━━━━━━━━━━━━━━\u001b[0m\u001b[37m\u001b[0m \u001b[1m3s\u001b[0m 5ms/step - loss: 0.0026 - val_loss: 0.0174\n",
            "Epoch 20/50\n",
            "\u001b[1m571/571\u001b[0m \u001b[32m━━━━━━━━━━━━━━━━━━━━\u001b[0m\u001b[37m\u001b[0m \u001b[1m4s\u001b[0m 4ms/step - loss: 0.0026 - val_loss: 0.0173\n",
            "Epoch 21/50\n",
            "\u001b[1m571/571\u001b[0m \u001b[32m━━━━━━━━━━━━━━━━━━━━\u001b[0m\u001b[37m\u001b[0m \u001b[1m2s\u001b[0m 4ms/step - loss: 0.0028 - val_loss: 0.0174\n",
            "Epoch 22/50\n",
            "\u001b[1m571/571\u001b[0m \u001b[32m━━━━━━━━━━━━━━━━━━━━\u001b[0m\u001b[37m\u001b[0m \u001b[1m2s\u001b[0m 4ms/step - loss: 0.0026 - val_loss: 0.0174\n",
            "Epoch 23/50\n",
            "\u001b[1m571/571\u001b[0m \u001b[32m━━━━━━━━━━━━━━━━━━━━\u001b[0m\u001b[37m\u001b[0m \u001b[1m3s\u001b[0m 5ms/step - loss: 0.0027 - val_loss: 0.0172\n",
            "Epoch 24/50\n",
            "\u001b[1m571/571\u001b[0m \u001b[32m━━━━━━━━━━━━━━━━━━━━\u001b[0m\u001b[37m\u001b[0m \u001b[1m5s\u001b[0m 4ms/step - loss: 0.0027 - val_loss: 0.0172\n",
            "Epoch 25/50\n",
            "\u001b[1m571/571\u001b[0m \u001b[32m━━━━━━━━━━━━━━━━━━━━\u001b[0m\u001b[37m\u001b[0m \u001b[1m2s\u001b[0m 4ms/step - loss: 0.0025 - val_loss: 0.0173\n",
            "Epoch 26/50\n",
            "\u001b[1m571/571\u001b[0m \u001b[32m━━━━━━━━━━━━━━━━━━━━\u001b[0m\u001b[37m\u001b[0m \u001b[1m2s\u001b[0m 4ms/step - loss: 0.0028 - val_loss: 0.0174\n",
            "Epoch 27/50\n",
            "\u001b[1m571/571\u001b[0m \u001b[32m━━━━━━━━━━━━━━━━━━━━\u001b[0m\u001b[37m\u001b[0m \u001b[1m3s\u001b[0m 5ms/step - loss: 0.0028 - val_loss: 0.0174\n",
            "Epoch 28/50\n",
            "\u001b[1m571/571\u001b[0m \u001b[32m━━━━━━━━━━━━━━━━━━━━\u001b[0m\u001b[37m\u001b[0m \u001b[1m5s\u001b[0m 4ms/step - loss: 0.0026 - val_loss: 0.0172\n",
            "Epoch 29/50\n",
            "\u001b[1m571/571\u001b[0m \u001b[32m━━━━━━━━━━━━━━━━━━━━\u001b[0m\u001b[37m\u001b[0m \u001b[1m2s\u001b[0m 4ms/step - loss: 0.0027 - val_loss: 0.0174\n",
            "Epoch 30/50\n",
            "\u001b[1m571/571\u001b[0m \u001b[32m━━━━━━━━━━━━━━━━━━━━\u001b[0m\u001b[37m\u001b[0m \u001b[1m2s\u001b[0m 4ms/step - loss: 0.0026 - val_loss: 0.0175\n",
            "Epoch 31/50\n",
            "\u001b[1m571/571\u001b[0m \u001b[32m━━━━━━━━━━━━━━━━━━━━\u001b[0m\u001b[37m\u001b[0m \u001b[1m3s\u001b[0m 5ms/step - loss: 0.0027 - val_loss: 0.0173\n",
            "Epoch 32/50\n",
            "\u001b[1m571/571\u001b[0m \u001b[32m━━━━━━━━━━━━━━━━━━━━\u001b[0m\u001b[37m\u001b[0m \u001b[1m3s\u001b[0m 6ms/step - loss: 0.0025 - val_loss: 0.0173\n",
            "Epoch 33/50\n",
            "\u001b[1m571/571\u001b[0m \u001b[32m━━━━━━━━━━━━━━━━━━━━\u001b[0m\u001b[37m\u001b[0m \u001b[1m2s\u001b[0m 4ms/step - loss: 0.0027 - val_loss: 0.0175\n",
            "Epoch 34/50\n",
            "\u001b[1m571/571\u001b[0m \u001b[32m━━━━━━━━━━━━━━━━━━━━\u001b[0m\u001b[37m\u001b[0m \u001b[1m2s\u001b[0m 4ms/step - loss: 0.0024 - val_loss: 0.0172\n",
            "Epoch 35/50\n",
            "\u001b[1m571/571\u001b[0m \u001b[32m━━━━━━━━━━━━━━━━━━━━\u001b[0m\u001b[37m\u001b[0m \u001b[1m3s\u001b[0m 4ms/step - loss: 0.0026 - val_loss: 0.0173\n",
            "Epoch 36/50\n",
            "\u001b[1m571/571\u001b[0m \u001b[32m━━━━━━━━━━━━━━━━━━━━\u001b[0m\u001b[37m\u001b[0m \u001b[1m3s\u001b[0m 5ms/step - loss: 0.0025 - val_loss: 0.0174\n",
            "Epoch 37/50\n",
            "\u001b[1m571/571\u001b[0m \u001b[32m━━━━━━━━━━━━━━━━━━━━\u001b[0m\u001b[37m\u001b[0m \u001b[1m3s\u001b[0m 6ms/step - loss: 0.0028 - val_loss: 0.0174\n",
            "Epoch 38/50\n",
            "\u001b[1m571/571\u001b[0m \u001b[32m━━━━━━━━━━━━━━━━━━━━\u001b[0m\u001b[37m\u001b[0m \u001b[1m4s\u001b[0m 4ms/step - loss: 0.0026 - val_loss: 0.0174\n",
            "Epoch 39/50\n",
            "\u001b[1m571/571\u001b[0m \u001b[32m━━━━━━━━━━━━━━━━━━━━\u001b[0m\u001b[37m\u001b[0m \u001b[1m2s\u001b[0m 4ms/step - loss: 0.0027 - val_loss: 0.0173\n",
            "Epoch 40/50\n",
            "\u001b[1m571/571\u001b[0m \u001b[32m━━━━━━━━━━━━━━━━━━━━\u001b[0m\u001b[37m\u001b[0m \u001b[1m2s\u001b[0m 4ms/step - loss: 0.0030 - val_loss: 0.0173\n",
            "Epoch 41/50\n",
            "\u001b[1m571/571\u001b[0m \u001b[32m━━━━━━━━━━━━━━━━━━━━\u001b[0m\u001b[37m\u001b[0m \u001b[1m3s\u001b[0m 6ms/step - loss: 0.0025 - val_loss: 0.0173\n",
            "Epoch 42/50\n",
            "\u001b[1m571/571\u001b[0m \u001b[32m━━━━━━━━━━━━━━━━━━━━\u001b[0m\u001b[37m\u001b[0m \u001b[1m3s\u001b[0m 5ms/step - loss: 0.0027 - val_loss: 0.0173\n",
            "Epoch 43/50\n",
            "\u001b[1m571/571\u001b[0m \u001b[32m━━━━━━━━━━━━━━━━━━━━\u001b[0m\u001b[37m\u001b[0m \u001b[1m4s\u001b[0m 4ms/step - loss: 0.0027 - val_loss: 0.0173\n",
            "Epoch 44/50\n",
            "\u001b[1m571/571\u001b[0m \u001b[32m━━━━━━━━━━━━━━━━━━━━\u001b[0m\u001b[37m\u001b[0m \u001b[1m2s\u001b[0m 4ms/step - loss: 0.0027 - val_loss: 0.0173\n",
            "Epoch 45/50\n",
            "\u001b[1m571/571\u001b[0m \u001b[32m━━━━━━━━━━━━━━━━━━━━\u001b[0m\u001b[37m\u001b[0m \u001b[1m3s\u001b[0m 5ms/step - loss: 0.0025 - val_loss: 0.0173\n",
            "Epoch 46/50\n",
            "\u001b[1m571/571\u001b[0m \u001b[32m━━━━━━━━━━━━━━━━━━━━\u001b[0m\u001b[37m\u001b[0m \u001b[1m3s\u001b[0m 6ms/step - loss: 0.0025 - val_loss: 0.0173\n",
            "Epoch 47/50\n",
            "\u001b[1m571/571\u001b[0m \u001b[32m━━━━━━━━━━━━━━━━━━━━\u001b[0m\u001b[37m\u001b[0m \u001b[1m2s\u001b[0m 4ms/step - loss: 0.0026 - val_loss: 0.0173\n",
            "Epoch 48/50\n",
            "\u001b[1m571/571\u001b[0m \u001b[32m━━━━━━━━━━━━━━━━━━━━\u001b[0m\u001b[37m\u001b[0m \u001b[1m2s\u001b[0m 4ms/step - loss: 0.0028 - val_loss: 0.0178\n",
            "Epoch 49/50\n",
            "\u001b[1m571/571\u001b[0m \u001b[32m━━━━━━━━━━━━━━━━━━━━\u001b[0m\u001b[37m\u001b[0m \u001b[1m2s\u001b[0m 4ms/step - loss: 0.0027 - val_loss: 0.0176\n",
            "Epoch 50/50\n",
            "\u001b[1m571/571\u001b[0m \u001b[32m━━━━━━━━━━━━━━━━━━━━\u001b[0m\u001b[37m\u001b[0m \u001b[1m2s\u001b[0m 4ms/step - loss: 0.0027 - val_loss: 0.0173\n"
          ]
        }
      ]
    },
    {
      "cell_type": "code",
      "source": [
        "# Make predictions on the training and test data\n",
        "\n",
        "train_predict = model.predict(X_train)\n",
        "test_predict = model.predict(X_test)"
      ],
      "metadata": {
        "colab": {
          "base_uri": "https://localhost:8080/"
        },
        "id": "CGeW_iudlcwS",
        "outputId": "411d934f-f8c6-4c52-b297-c3988e7dec5f"
      },
      "execution_count": 127,
      "outputs": [
        {
          "output_type": "stream",
          "name": "stdout",
          "text": [
            "\u001b[1m286/286\u001b[0m \u001b[32m━━━━━━━━━━━━━━━━━━━━\u001b[0m\u001b[37m\u001b[0m \u001b[1m1s\u001b[0m 4ms/step\n",
            "\u001b[1m72/72\u001b[0m \u001b[32m━━━━━━━━━━━━━━━━━━━━\u001b[0m\u001b[37m\u001b[0m \u001b[1m0s\u001b[0m 3ms/step\n"
          ]
        }
      ]
    },
    {
      "cell_type": "code",
      "source": [
        "# Inverse transform the predictions to the original scale\n",
        "\n",
        "train_predict = scaler.inverse_transform(train_predict)\n",
        "test_predict = scaler.inverse_transform(test_predict)"
      ],
      "metadata": {
        "id": "ekXPIe0Ulcy6"
      },
      "execution_count": 128,
      "outputs": []
    },
    {
      "cell_type": "code",
      "source": [
        "# Fetch the actual future stock prices for comparison\n",
        "\n",
        "actual_future_df = yf.download('JPM', start='2024-01-02', end='2024-01-05')\n",
        "actual_future_prices = actual_future_df['Close'].values\n"
      ],
      "metadata": {
        "colab": {
          "base_uri": "https://localhost:8080/"
        },
        "id": "R5VnpKyBDxTI",
        "outputId": "5905356a-c999-40ee-c091-6537c504df06"
      },
      "execution_count": 129,
      "outputs": [
        {
          "output_type": "stream",
          "name": "stderr",
          "text": [
            "\r[*********************100%%**********************]  1 of 1 completed\n"
          ]
        }
      ]
    },
    {
      "cell_type": "code",
      "source": [
        "next = 3  # Number of days to forecast"
      ],
      "metadata": {
        "id": "cRHM7Y7cwi1C"
      },
      "execution_count": 130,
      "outputs": []
    },
    {
      "cell_type": "code",
      "source": [
        "# Prepare the input for future predictions\n",
        "\n",
        "future_inputs = df['Close'][-time_step:].values.reshape(1, time_step, 1)\n",
        "future_predictions = []\n",
        "for _ in range(next):\n",
        "    future_pred = model.predict(future_inputs)\n",
        "    future_predictions.append(future_pred[0, 0])\n",
        "    future_inputs = np.append(future_inputs[:, 1:, :], future_pred.reshape(1, 1, 1), axis=1)\n",
        "\n",
        "# Inverse transform the future predictions to the original scale\n",
        "future_predictions = scaler.inverse_transform(np.array(future_predictions).reshape(-1, 1))\n"
      ],
      "metadata": {
        "colab": {
          "base_uri": "https://localhost:8080/"
        },
        "id": "JI699lWMDiKI",
        "outputId": "efeb3bfb-f607-440f-c253-94e5c72940ab"
      },
      "execution_count": 131,
      "outputs": [
        {
          "output_type": "stream",
          "name": "stdout",
          "text": [
            "\u001b[1m1/1\u001b[0m \u001b[32m━━━━━━━━━━━━━━━━━━━━\u001b[0m\u001b[37m\u001b[0m \u001b[1m0s\u001b[0m 39ms/step\n",
            "\u001b[1m1/1\u001b[0m \u001b[32m━━━━━━━━━━━━━━━━━━━━\u001b[0m\u001b[37m\u001b[0m \u001b[1m0s\u001b[0m 35ms/step\n",
            "\u001b[1m1/1\u001b[0m \u001b[32m━━━━━━━━━━━━━━━━━━━━\u001b[0m\u001b[37m\u001b[0m \u001b[1m0s\u001b[0m 35ms/step\n"
          ]
        }
      ]
    },
    {
      "cell_type": "code",
      "source": [
        "# Invert the differencing for future predictions\n",
        "\n",
        "last_value = df['Close'].iloc[-1]\n",
        "future_predictions_orig = last_value + np.cumsum(future_predictions)"
      ],
      "metadata": {
        "id": "K_iBsMnkzoV5"
      },
      "execution_count": 132,
      "outputs": []
    },
    {
      "cell_type": "code",
      "source": [
        "future_predictions_orig"
      ],
      "metadata": {
        "colab": {
          "base_uri": "https://localhost:8080/"
        },
        "id": "XYSZQ08dzoYk",
        "outputId": "ba970372-3119-433a-c5fd-fe1b7d5a46e8"
      },
      "execution_count": 133,
      "outputs": [
        {
          "output_type": "execute_result",
          "data": {
            "text/plain": [
              "array([169.86256, 170.86676, 172.97336], dtype=float32)"
            ]
          },
          "metadata": {},
          "execution_count": 133
        }
      ]
    },
    {
      "cell_type": "code",
      "source": [
        "# Evaluate the predictions\n",
        "\n",
        "future_rmse = np.sqrt(mean_squared_error(actual_future_prices, future_predictions_orig))\n",
        "future_mape = mean_absolute_percentage_error(actual_future_prices, future_predictions_orig)\n",
        "\n",
        "print(f'Root Mean Squared Error for RNN: {future_rmse}')\n",
        "print(f'Mean Absolute Percentage Error for RNN: {future_mape}')"
      ],
      "metadata": {
        "colab": {
          "base_uri": "https://localhost:8080/"
        },
        "id": "ZhfTGx5MzobC",
        "outputId": "954ad9af-87cc-418b-932e-ca35ddfca4a1"
      },
      "execution_count": 134,
      "outputs": [
        {
          "output_type": "stream",
          "name": "stdout",
          "text": [
            "RMSE using RNN: 1.5890982952795663\n",
            "MAPE using RNN: 0.008236813055486774\n"
          ]
        }
      ]
    },
    {
      "cell_type": "code",
      "source": [
        "# Visualize the predictions as shown in Figure 4\n",
        "\n",
        "days = [\"Day 1\", \"Day 2\", \"Day 3\"]\n",
        "actual_new_cases = actual_future_df['Close'].values\n",
        "predicted_new_cases = future_predictions_orig\n",
        "\n",
        "plt.figure(figsize=(12, 5))\n",
        "plt.plot(days, actual_new_cases, marker='o', linestyle='-', color='blue', label='Actual')\n",
        "plt.plot(days, predicted_new_cases, marker='o', linestyle='--', color='red', label='RNN Prediction with detrending')\n",
        "\n",
        "plt.title('JPM Stock Price Predictions vs Actual')\n",
        "plt.xlabel('Prediction')\n",
        "plt.ylabel('Stock Price')\n",
        "plt.legend()\n",
        "\n",
        "plt.grid(True)\n",
        "plt.show()\n"
      ],
      "metadata": {
        "colab": {
          "base_uri": "https://localhost:8080/",
          "height": 487
        },
        "id": "MkBNc5jc0oZV",
        "outputId": "3ceb28f9-e9d5-44c3-e92d-2b067384ac6b"
      },
      "execution_count": 135,
      "outputs": [
        {
          "output_type": "display_data",
          "data": {
            "text/plain": [
              "<Figure size 1200x500 with 1 Axes>"
            ],
            "image/png": "[encoded data removed]"
          },
          "metadata": {}
        }
      ]
    },
    {
      "cell_type": "code",
      "source": [],
      "metadata": {
        "id": "WQ_IT6Oo0ob_"
      },
      "execution_count": null,
      "outputs": []
    },
    {
      "cell_type": "code",
      "source": [],
      "metadata": {
        "id": "yfqiVeBsXzo8"
      },
      "execution_count": null,
      "outputs": []
    }
  ]
}